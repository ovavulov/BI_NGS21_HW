{
 "cells": [
  {
   "cell_type": "markdown",
   "metadata": {},
   "source": [
    "# Анализ данных NGS. Домашнее задание № 5"
   ]
  },
  {
   "cell_type": "markdown",
   "metadata": {},
   "source": [
    "Выполнил: Олег Вавулов"
   ]
  },
  {
   "cell_type": "code",
   "execution_count": 1,
   "metadata": {},
   "outputs": [
    {
     "name": "stdout",
     "output_type": "stream",
     "text": [
      "ECOLI_IS220_QUAKE_1K_paired_reads.fasta s_6.first100000.fastq.gz\n",
      "ECOLI_IS220_QUAKE_1K_single_reads.fasta test1.fasta\n",
      "s_6.first1000.fastq.gz                  test2.fasta\n",
      "s_6.first10000.fastq.gz\n"
     ]
    }
   ],
   "source": [
    "!ls ../../data/hw_5"
   ]
  },
  {
   "cell_type": "code",
   "execution_count": 2,
   "metadata": {},
   "outputs": [],
   "source": [
    "%load_ext autoreload\n",
    "%autoreload 2\n",
    "\n",
    "import warnings\n",
    "warnings.filterwarnings(\"ignore\")\n",
    "\n",
    "import os\n",
    "from debruijn import *\n",
    "\n",
    "DATA_PATH = \"../../data/hw_5\"\n",
    "KMER_LEN = 55\n",
    "# READS_PATH = os.path.join(DATA_PATH, \"ECOLI_IS220_QUAKE_1K_single_reads.fasta\")\n",
    "READS_PATH = os.path.join(DATA_PATH, \"s_6.first1000.fastq.gz\")\n",
    "COV_CUTOFF = 50\n",
    "LEN_CUTOFF = 50"
   ]
  },
  {
   "cell_type": "markdown",
   "metadata": {},
   "source": [
    "# De Bruijn graph"
   ]
  },
  {
   "cell_type": "markdown",
   "metadata": {},
   "source": [
    "Compressed De Bruijn graph buiding"
   ]
  },
  {
   "cell_type": "code",
   "execution_count": 3,
   "metadata": {},
   "outputs": [
    {
     "name": "stderr",
     "output_type": "stream",
     "text": [
      "4108it [31:02,  2.21it/s]\n"
     ]
    }
   ],
   "source": [
    "# de Bruijn graph buiding\n",
    "adj_matrix_full, kmer_coverage = build_debruijn_graph(READS_PATH, KMER_LEN)"
   ]
  },
  {
   "cell_type": "code",
   "execution_count": 4,
   "metadata": {},
   "outputs": [
    {
     "name": "stdout",
     "output_type": "stream",
     "text": [
      "CPU times: user 3.97 s, sys: 17.3 ms, total: 3.99 s\n",
      "Wall time: 3.07 s\n"
     ]
    }
   ],
   "source": [
    "%%time\n",
    "# create edges table\n",
    "edges_full = get_edges(adj_matrix_full)"
   ]
  },
  {
   "cell_type": "code",
   "execution_count": 5,
   "metadata": {},
   "outputs": [
    {
     "name": "stdout",
     "output_type": "stream",
     "text": [
      "CPU times: user 23.1 s, sys: 2.2 s, total: 25.3 s\n",
      "Wall time: 25.3 s\n"
     ]
    }
   ],
   "source": [
    "%%time\n",
    "# compress graph\n",
    "adj_matrix, edges = make_graph_compression(adj_matrix_full, edges_full)"
   ]
  },
  {
   "cell_type": "code",
   "execution_count": 6,
   "metadata": {},
   "outputs": [],
   "source": [
    "# calculate additional stat on edges\n",
    "edges = add_edges_statistics(edges, KMER_LEN, kmer_coverage)"
   ]
  },
  {
   "cell_type": "code",
   "execution_count": 7,
   "metadata": {},
   "outputs": [],
   "source": [
    "# results saving\n",
    "res_path = \"results/full\"\n",
    "save_dot(edges, res_path, \"graph.dot\", \"nodes.json\")\n",
    "dot2png(res_path, \"graph.dot\", \"graph.png\")\n",
    "edges2fasta(edges, res_path, \"edges.fa\")"
   ]
  },
  {
   "cell_type": "markdown",
   "metadata": {},
   "source": [
    "<img src=\"results/full/graph.png\">"
   ]
  },
  {
   "cell_type": "markdown",
   "metadata": {},
   "source": [
    "Tips removal"
   ]
  },
  {
   "cell_type": "code",
   "execution_count": 8,
   "metadata": {},
   "outputs": [],
   "source": [
    "# tips removal\n",
    "adj_matrix_notips, edges_notips = remove_tips(\n",
    "    adj_matrix, edges, len_cutoff=LEN_CUTOFF, cov_cutoff=COV_CUTOFF\n",
    ")"
   ]
  },
  {
   "cell_type": "code",
   "execution_count": 9,
   "metadata": {},
   "outputs": [],
   "source": [
    "# results saving\n",
    "res_path = \"results/notips\"\n",
    "save_dot(edges_notips, res_path, \"graph_notips.dot\", \"nodes_notips.json\")\n",
    "dot2png(res_path, \"graph_notips.dot\", \"graph_notips.png\")\n",
    "edges2fasta(edges_notips, res_path, \"edges_notips.fa\")"
   ]
  },
  {
   "cell_type": "markdown",
   "metadata": {},
   "source": [
    "<img src=\"results/notips/graph_notips.png\">"
   ]
  },
  {
   "cell_type": "markdown",
   "metadata": {},
   "source": [
    "Any unreliable edges removal"
   ]
  },
  {
   "cell_type": "code",
   "execution_count": 16,
   "metadata": {},
   "outputs": [],
   "source": [
    "# tips removal\n",
    "adj_matrix_noany, edges_noany = remove_any(\n",
    "    adj_matrix, edges, len_cutoff=LEN_CUTOFF, cov_cutoff=COV_CUTOFF\n",
    ")"
   ]
  },
  {
   "cell_type": "code",
   "execution_count": 22,
   "metadata": {},
   "outputs": [],
   "source": [
    "# results saving\n",
    "res_path = \"results/noany\"\n",
    "save_dot(edges_noany, res_path, \"graph_noany.dot\", \"nodes_noany.json\")\n",
    "dot2png(res_path, \"graph_noany.dot\", \"graph_noany.png\")\n",
    "edges2fasta(edges_noany, res_path, \"edges_noany.fa\")"
   ]
  },
  {
   "cell_type": "markdown",
   "metadata": {},
   "source": [
    "<img src=\"results/noany/graph_noany.png\">"
   ]
  },
  {
   "cell_type": "markdown",
   "metadata": {},
   "source": [
    "При обеих стратегиях очистки графа получаем один и тот же результат, однако способ с удалением хвостиков более аккуратный, так как при его использовании гарантированно сохраняется число компонент связности в графе."
   ]
  }
 ],
 "metadata": {
  "kernelspec": {
   "display_name": "Python 3",
   "language": "python",
   "name": "python3"
  },
  "language_info": {
   "codemirror_mode": {
    "name": "ipython",
    "version": 3
   },
   "file_extension": ".py",
   "mimetype": "text/x-python",
   "name": "python",
   "nbconvert_exporter": "python",
   "pygments_lexer": "ipython3",
   "version": "3.7.4"
  }
 },
 "nbformat": 4,
 "nbformat_minor": 4
}
