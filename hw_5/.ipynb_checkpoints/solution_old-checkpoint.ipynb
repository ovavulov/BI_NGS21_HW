{
 "cells": [
  {
   "cell_type": "markdown",
   "metadata": {},
   "source": [
    "# Анализ данных NGS. Домашнее задание № 5"
   ]
  },
  {
   "cell_type": "markdown",
   "metadata": {},
   "source": [
    "Выполнил: Олег Вавулов"
   ]
  },
  {
   "cell_type": "code",
   "execution_count": 1,
   "metadata": {},
   "outputs": [
    {
     "name": "stdout",
     "output_type": "stream",
     "text": [
      "ECOLI_IS220_QUAKE_1K_paired_reads.fasta s_6.first100000.fastq.gz\n",
      "ECOLI_IS220_QUAKE_1K_single_reads.fasta test1.fasta\n",
      "s_6.first1000.fastq.gz                  test2.fasta\n",
      "s_6.first10000.fastq.gz\n"
     ]
    }
   ],
   "source": [
    "!ls ../../data/hw_5"
   ]
  },
  {
   "cell_type": "code",
   "execution_count": 2,
   "metadata": {},
   "outputs": [],
   "source": [
    "%load_ext autoreload\n",
    "%autoreload 2\n",
    "\n",
    "import warnings\n",
    "warnings.filterwarnings(\"ignore\")\n",
    "\n",
    "import os\n",
    "from debruijn import *\n",
    "\n",
    "DATA_PATH = \"../../data/hw_5\"\n",
    "KMER_LEN = 55\n",
    "# READS_PATH = os.path.join(DATA_PATH, \"ECOLI_IS220_QUAKE_1K_single_reads.fasta\")\n",
    "READS_PATH = os.path.join(DATA_PATH, \"s_6.first1000.fastq.gz\")\n",
    "COV_CUTOFF = 50\n",
    "LEN_CUTOFF = 50"
   ]
  },
  {
   "cell_type": "markdown",
   "metadata": {},
   "source": [
    "# De Bruijn graph"
   ]
  },
  {
   "cell_type": "markdown",
   "metadata": {},
   "source": [
    "Compressed De Bruijn graph buiding"
   ]
  },
  {
   "cell_type": "code",
   "execution_count": 3,
   "metadata": {},
   "outputs": [
    {
     "name": "stderr",
     "output_type": "stream",
     "text": [
      "4108it [00:01, 3283.17it/s]\n"
     ]
    }
   ],
   "source": [
    "# de Bruijn graph buiding\n",
    "adj_matrix_full, kmer_coverage = build_debruijn_graph(READS_PATH, KMER_LEN)"
   ]
  },
  {
   "cell_type": "code",
   "execution_count": 4,
   "metadata": {},
   "outputs": [
    {
     "name": "stdout",
     "output_type": "stream",
     "text": [
      "CPU times: user 2.84 ms, sys: 183 µs, total: 3.03 ms\n",
      "Wall time: 2.97 ms\n"
     ]
    }
   ],
   "source": [
    "%%time\n",
    "# create edges table\n",
    "edges_full = get_edges(adj_matrix_full)"
   ]
  },
  {
   "cell_type": "code",
   "execution_count": 5,
   "metadata": {},
   "outputs": [
    {
     "name": "stderr",
     "output_type": "stream",
     "text": [
      "100%|██████████| 1864/1864 [00:04<00:00, 375.87it/s]"
     ]
    },
    {
     "name": "stdout",
     "output_type": "stream",
     "text": [
      "CPU times: user 4.93 s, sys: 92.5 ms, total: 5.03 s\n",
      "Wall time: 4.98 s\n"
     ]
    },
    {
     "name": "stderr",
     "output_type": "stream",
     "text": [
      "\n"
     ]
    }
   ],
   "source": [
    "%%time\n",
    "edges = make_graph_compression(edges_full)"
   ]
  },
  {
   "cell_type": "code",
   "execution_count": null,
   "metadata": {},
   "outputs": [],
   "source": []
  },
  {
   "cell_type": "code",
   "execution_count": 120,
   "metadata": {},
   "outputs": [],
   "source": [
    "from numba import njit, prange, float64"
   ]
  },
  {
   "cell_type": "code",
   "execution_count": 112,
   "metadata": {},
   "outputs": [],
   "source": [
    "@njit\n",
    "def fast_compression(edges, uninformative_nodes):\n",
    "    for i in prange(len(uninformative_nodes)):\n",
    "        node = uninformative_nodes[i]\n",
    "        # select edges to merge\n",
    "        drop_idxs = []\n",
    "        drop_idxs.append(np.where(edges[:, 1] == node)[0][0])\n",
    "        drop_idxs.append(np.where(edges[:, 0] == node)[0][0])\n",
    "        merge = edges[drop_idxs, :]\n",
    "\n",
    "        in_kmer = merge[0, 0]\n",
    "        out_kmer = merge[1, 1]\n",
    "\n",
    "        # drop them at first\n",
    "        edges = np.delete(edges, drop_idxs, axis=0)\n",
    "\n",
    "        # and introduce new merged edge\n",
    "        new_edge = int(str(merge[0, 2])[:-kmer_len]+\\\n",
    "                   str(merge[1, 2]))\n",
    "        new_edge = np.array([in_kmer, out_kmer, new_edge]).reshape(1, -1)\n",
    "        edges = np.concatenate([edges, new_edge], axis=0)\n",
    "    return edges"
   ]
  },
  {
   "cell_type": "code",
   "execution_count": 121,
   "metadata": {},
   "outputs": [],
   "source": [
    "mapp = {\"A\": \"1\", \"C\": \"2\", \"T\": \"3\", \"G\": \"4\"}\n",
    "rev_mapp = {x: y for y, x in mapp.items()}\n",
    "def encode(node):\n",
    "    return float64(int(\"\".join(map(lambda x: mapp[x], list(node))))/10**20)"
   ]
  },
  {
   "cell_type": "code",
   "execution_count": 122,
   "metadata": {
    "scrolled": true
   },
   "outputs": [
    {
     "ename": "TypingError",
     "evalue": "Failed in nopython mode pipeline (step: nopython frontend)\n\u001b[1m\u001b[1m\u001b[1mNo implementation of function Function(<built-in function getitem>) found for signature:\n \n >>> getitem(array(float64, 2d, C), Tuple(list(int64)<iv=None>, slice<a:b>))\n \nThere are 22 candidate implementations:\n\u001b[1m   - Of which 20 did not match due to:\n   Overload of function 'getitem': File: <numerous>: Line N/A.\n     With argument(s): '(array(float64, 2d, C), Tuple(list(int64)<iv=None>, slice<a:b>))':\u001b[0m\n\u001b[1m    No match.\u001b[0m\n\u001b[1m   - Of which 2 did not match due to:\n   Overload in function 'GetItemBuffer.generic': File: numba/core/typing/arraydecl.py: Line 162.\n     With argument(s): '(array(float64, 2d, C), Tuple(list(int64)<iv=None>, slice<a:b>))':\u001b[0m\n\u001b[1m    Rejected as the implementation raised a specific error:\n      TypeError: unsupported array index type list(int64)<iv=None> in Tuple(list(int64)<iv=None>, slice<a:b>)\u001b[0m\n  raised from /Users/a18264698/.local/lib/python3.7/site-packages/numba/core/typing/arraydecl.py:69\n\u001b[0m\n\u001b[0m\u001b[1mDuring: typing of intrinsic-call at <ipython-input-112-5fb0d0c48c04> (9)\u001b[0m\n\u001b[0m\u001b[1mDuring: typing of static-get-item at <ipython-input-112-5fb0d0c48c04> (9)\u001b[0m\n\u001b[1m\nFile \"<ipython-input-112-5fb0d0c48c04>\", line 9:\u001b[0m\n\u001b[1mdef fast_compression(edges, uninformative_nodes):\n    <source elided>\n        drop_idxs.append(np.where(edges[:, 0] == node)[0][0])\n\u001b[1m        merge = edges[drop_idxs, :]\n\u001b[0m        \u001b[1m^\u001b[0m\u001b[0m\n",
     "output_type": "error",
     "traceback": [
      "\u001b[0;31m---------------------------------------------------------------------------\u001b[0m",
      "\u001b[0;31mTypingError\u001b[0m                               Traceback (most recent call last)",
      "\u001b[0;32m<timed exec>\u001b[0m in \u001b[0;36m<module>\u001b[0;34m\u001b[0m\n",
      "\u001b[0;32m~/.local/lib/python3.7/site-packages/numba/core/dispatcher.py\u001b[0m in \u001b[0;36m_compile_for_args\u001b[0;34m(self, *args, **kws)\u001b[0m\n\u001b[1;32m    418\u001b[0m                 \u001b[0me\u001b[0m\u001b[0;34m.\u001b[0m\u001b[0mpatch_message\u001b[0m\u001b[0;34m(\u001b[0m\u001b[0mmsg\u001b[0m\u001b[0;34m)\u001b[0m\u001b[0;34m\u001b[0m\u001b[0;34m\u001b[0m\u001b[0m\n\u001b[1;32m    419\u001b[0m \u001b[0;34m\u001b[0m\u001b[0m\n\u001b[0;32m--> 420\u001b[0;31m             \u001b[0merror_rewrite\u001b[0m\u001b[0;34m(\u001b[0m\u001b[0me\u001b[0m\u001b[0;34m,\u001b[0m \u001b[0;34m'typing'\u001b[0m\u001b[0;34m)\u001b[0m\u001b[0;34m\u001b[0m\u001b[0;34m\u001b[0m\u001b[0m\n\u001b[0m\u001b[1;32m    421\u001b[0m         \u001b[0;32mexcept\u001b[0m \u001b[0merrors\u001b[0m\u001b[0;34m.\u001b[0m\u001b[0mUnsupportedError\u001b[0m \u001b[0;32mas\u001b[0m \u001b[0me\u001b[0m\u001b[0;34m:\u001b[0m\u001b[0;34m\u001b[0m\u001b[0;34m\u001b[0m\u001b[0m\n\u001b[1;32m    422\u001b[0m             \u001b[0;31m# Something unsupported is present in the user code, add help info\u001b[0m\u001b[0;34m\u001b[0m\u001b[0;34m\u001b[0m\u001b[0;34m\u001b[0m\u001b[0m\n",
      "\u001b[0;32m~/.local/lib/python3.7/site-packages/numba/core/dispatcher.py\u001b[0m in \u001b[0;36merror_rewrite\u001b[0;34m(e, issue_type)\u001b[0m\n\u001b[1;32m    359\u001b[0m                 \u001b[0;32mraise\u001b[0m \u001b[0me\u001b[0m\u001b[0;34m\u001b[0m\u001b[0;34m\u001b[0m\u001b[0m\n\u001b[1;32m    360\u001b[0m             \u001b[0;32melse\u001b[0m\u001b[0;34m:\u001b[0m\u001b[0;34m\u001b[0m\u001b[0;34m\u001b[0m\u001b[0m\n\u001b[0;32m--> 361\u001b[0;31m                 \u001b[0;32mraise\u001b[0m \u001b[0me\u001b[0m\u001b[0;34m.\u001b[0m\u001b[0mwith_traceback\u001b[0m\u001b[0;34m(\u001b[0m\u001b[0;32mNone\u001b[0m\u001b[0;34m)\u001b[0m\u001b[0;34m\u001b[0m\u001b[0;34m\u001b[0m\u001b[0m\n\u001b[0m\u001b[1;32m    362\u001b[0m \u001b[0;34m\u001b[0m\u001b[0m\n\u001b[1;32m    363\u001b[0m         \u001b[0margtypes\u001b[0m \u001b[0;34m=\u001b[0m \u001b[0;34m[\u001b[0m\u001b[0;34m]\u001b[0m\u001b[0;34m\u001b[0m\u001b[0;34m\u001b[0m\u001b[0m\n",
      "\u001b[0;31mTypingError\u001b[0m: Failed in nopython mode pipeline (step: nopython frontend)\n\u001b[1m\u001b[1m\u001b[1mNo implementation of function Function(<built-in function getitem>) found for signature:\n \n >>> getitem(array(float64, 2d, C), Tuple(list(int64)<iv=None>, slice<a:b>))\n \nThere are 22 candidate implementations:\n\u001b[1m   - Of which 20 did not match due to:\n   Overload of function 'getitem': File: <numerous>: Line N/A.\n     With argument(s): '(array(float64, 2d, C), Tuple(list(int64)<iv=None>, slice<a:b>))':\u001b[0m\n\u001b[1m    No match.\u001b[0m\n\u001b[1m   - Of which 2 did not match due to:\n   Overload in function 'GetItemBuffer.generic': File: numba/core/typing/arraydecl.py: Line 162.\n     With argument(s): '(array(float64, 2d, C), Tuple(list(int64)<iv=None>, slice<a:b>))':\u001b[0m\n\u001b[1m    Rejected as the implementation raised a specific error:\n      TypeError: unsupported array index type list(int64)<iv=None> in Tuple(list(int64)<iv=None>, slice<a:b>)\u001b[0m\n  raised from /Users/a18264698/.local/lib/python3.7/site-packages/numba/core/typing/arraydecl.py:69\n\u001b[0m\n\u001b[0m\u001b[1mDuring: typing of intrinsic-call at <ipython-input-112-5fb0d0c48c04> (9)\u001b[0m\n\u001b[0m\u001b[1mDuring: typing of static-get-item at <ipython-input-112-5fb0d0c48c04> (9)\u001b[0m\n\u001b[1m\nFile \"<ipython-input-112-5fb0d0c48c04>\", line 9:\u001b[0m\n\u001b[1mdef fast_compression(edges, uninformative_nodes):\n    <source elided>\n        drop_idxs.append(np.where(edges[:, 0] == node)[0][0])\n\u001b[1m        merge = edges[drop_idxs, :]\n\u001b[0m        \u001b[1m^\u001b[0m\u001b[0m\n"
     ]
    }
   ],
   "source": [
    "%%time\n",
    "edges = deepcopy(edges_full)\n",
    "kmer_len = len(edges.iloc[0, 0])\n",
    "source_nodes = edges.groupby(\"source\")[\"edge\"].count()\n",
    "source_nodes = source_nodes[source_nodes == 1].keys().to_list()\n",
    "target_nodes = edges.groupby(\"target\")[\"edge\"].count()\n",
    "target_nodes = target_nodes[target_nodes == 1].keys().to_list()\n",
    "uninformative_nodes = list(set(source_nodes) & set(target_nodes))\n",
    "# search through the graph until no uninformative node left\n",
    "edges = np.array(list(map(encode, edges.values.flatten()))).reshape(-1, 3)\n",
    "uninformative_nodes = list(map(encode, uninformative_nodes))\n",
    "edges = fast_compression(edges, uninformative_nodes)\n",
    "edges = pd.DataFrame(edges, columns=[\"source\", \"target\", \"edge\"])"
   ]
  },
  {
   "cell_type": "code",
   "execution_count": null,
   "metadata": {},
   "outputs": [],
   "source": []
  },
  {
   "cell_type": "code",
   "execution_count": null,
   "metadata": {},
   "outputs": [],
   "source": []
  },
  {
   "cell_type": "code",
   "execution_count": null,
   "metadata": {},
   "outputs": [],
   "source": []
  },
  {
   "cell_type": "code",
   "execution_count": null,
   "metadata": {},
   "outputs": [],
   "source": []
  },
  {
   "cell_type": "code",
   "execution_count": null,
   "metadata": {},
   "outputs": [],
   "source": []
  },
  {
   "cell_type": "code",
   "execution_count": null,
   "metadata": {},
   "outputs": [],
   "source": []
  },
  {
   "cell_type": "code",
   "execution_count": 26,
   "metadata": {},
   "outputs": [],
   "source": [
    "# calculate additional stat on edges\n",
    "edges = add_edges_statistics(edges, KMER_LEN, kmer_coverage)"
   ]
  },
  {
   "cell_type": "code",
   "execution_count": 27,
   "metadata": {},
   "outputs": [
    {
     "data": {
      "text/plain": [
       "(14, 5)"
      ]
     },
     "execution_count": 27,
     "metadata": {},
     "output_type": "execute_result"
    }
   ],
   "source": [
    "edges.shape"
   ]
  },
  {
   "cell_type": "code",
   "execution_count": null,
   "metadata": {},
   "outputs": [],
   "source": []
  },
  {
   "cell_type": "code",
   "execution_count": null,
   "metadata": {},
   "outputs": [],
   "source": []
  },
  {
   "cell_type": "code",
   "execution_count": 28,
   "metadata": {},
   "outputs": [],
   "source": [
    "# results saving\n",
    "res_path = \"results/full\"\n",
    "save_dot(edges, res_path, \"graph.dot\", \"nodes.json\")\n",
    "dot2png(res_path, \"graph.dot\", \"graph.png\")\n",
    "edges2fasta(edges, res_path, \"edges.fa\")"
   ]
  },
  {
   "cell_type": "markdown",
   "metadata": {},
   "source": [
    "<img src=\"results/full/graph.png\">"
   ]
  },
  {
   "cell_type": "markdown",
   "metadata": {},
   "source": [
    "Tips removal"
   ]
  },
  {
   "cell_type": "code",
   "execution_count": 8,
   "metadata": {},
   "outputs": [],
   "source": [
    "# tips removal\n",
    "adj_matrix_notips, edges_notips = remove_tips(\n",
    "    adj_matrix, edges, len_cutoff=LEN_CUTOFF, cov_cutoff=COV_CUTOFF\n",
    ")"
   ]
  },
  {
   "cell_type": "code",
   "execution_count": 9,
   "metadata": {},
   "outputs": [],
   "source": [
    "# results saving\n",
    "res_path = \"results/notips\"\n",
    "save_dot(edges_notips, res_path, \"graph_notips.dot\", \"nodes_notips.json\")\n",
    "dot2png(res_path, \"graph_notips.dot\", \"graph_notips.png\")\n",
    "edges2fasta(edges_notips, res_path, \"edges_notips.fa\")"
   ]
  },
  {
   "cell_type": "markdown",
   "metadata": {},
   "source": [
    "<img src=\"results/notips/graph_notips.png\">"
   ]
  },
  {
   "cell_type": "markdown",
   "metadata": {},
   "source": [
    "Any unreliable edges removal"
   ]
  },
  {
   "cell_type": "code",
   "execution_count": 16,
   "metadata": {},
   "outputs": [],
   "source": [
    "# tips removal\n",
    "adj_matrix_noany, edges_noany = remove_any(\n",
    "    adj_matrix, edges, len_cutoff=LEN_CUTOFF, cov_cutoff=COV_CUTOFF\n",
    ")"
   ]
  },
  {
   "cell_type": "code",
   "execution_count": 22,
   "metadata": {},
   "outputs": [],
   "source": [
    "# results saving\n",
    "res_path = \"results/noany\"\n",
    "save_dot(edges_noany, res_path, \"graph_noany.dot\", \"nodes_noany.json\")\n",
    "dot2png(res_path, \"graph_noany.dot\", \"graph_noany.png\")\n",
    "edges2fasta(edges_noany, res_path, \"edges_noany.fa\")"
   ]
  },
  {
   "cell_type": "markdown",
   "metadata": {},
   "source": [
    "<img src=\"results/noany/graph_noany.png\">"
   ]
  },
  {
   "cell_type": "markdown",
   "metadata": {},
   "source": [
    "При обеих стратегиях очистки графа получаем один и тот же результат, однако способ с удалением хвостиков более аккуратный, так как при его использовании гарантированно сохраняется число компонент связности в графе."
   ]
  }
 ],
 "metadata": {
  "kernelspec": {
   "display_name": "Python 3",
   "language": "python",
   "name": "python3"
  },
  "language_info": {
   "codemirror_mode": {
    "name": "ipython",
    "version": 3
   },
   "file_extension": ".py",
   "mimetype": "text/x-python",
   "name": "python",
   "nbconvert_exporter": "python",
   "pygments_lexer": "ipython3",
   "version": "3.7.4"
  }
 },
 "nbformat": 4,
 "nbformat_minor": 4
}
