{
 "cells": [
  {
   "cell_type": "markdown",
   "metadata": {},
   "source": [
    "# Анализ данных NGS. Домашнее задание № 5"
   ]
  },
  {
   "cell_type": "markdown",
   "metadata": {},
   "source": [
    "Выполнил: Олег Вавулов"
   ]
  },
  {
   "cell_type": "code",
   "execution_count": 1,
   "metadata": {},
   "outputs": [
    {
     "name": "stdout",
     "output_type": "stream",
     "text": [
      "ECOLI_IS220_QUAKE_1K_paired_reads.fasta s_6.first100000.fastq.gz\n",
      "ECOLI_IS220_QUAKE_1K_single_reads.fasta test1.fasta\n",
      "s_6.first1000.fastq.gz                  test2.fasta\n",
      "s_6.first10000.fastq.gz\n"
     ]
    }
   ],
   "source": [
    "!ls ../../data/hw_5"
   ]
  },
  {
   "cell_type": "code",
   "execution_count": 2,
   "metadata": {},
   "outputs": [],
   "source": [
    "%load_ext autoreload\n",
    "%autoreload 2\n",
    "\n",
    "import warnings\n",
    "warnings.filterwarnings(\"ignore\")\n",
    "\n",
    "import os\n",
    "from debruijn import *\n",
    "\n",
    "DATA_PATH = \"../../data/hw_5\"\n",
    "KMER_LEN = 55\n",
    "COV_CUTOFF = 50\n",
    "LEN_CUTOFF = 50"
   ]
  },
  {
   "cell_type": "markdown",
   "metadata": {},
   "source": [
    "# Что исправить"
   ]
  },
  {
   "cell_type": "markdown",
   "metadata": {},
   "source": [
    "- (DONE) покрытие по k+1 мерам\n",
    "- (DONE) сжать после удаления хвостиков\n",
    "- (DONE) ускорить (словари)\n",
    "- (DONE) посчитать для больших библиотек"
   ]
  },
  {
   "cell_type": "markdown",
   "metadata": {},
   "source": [
    "# De Bruijn graph"
   ]
  },
  {
   "cell_type": "markdown",
   "metadata": {},
   "source": [
    "## Library S (1000 reads)"
   ]
  },
  {
   "cell_type": "code",
   "execution_count": 3,
   "metadata": {},
   "outputs": [],
   "source": [
    "READS_PATH = os.path.join(DATA_PATH, \"s_6.first1000.fastq.gz\")\n",
    "RES_PATH = \"results_S\""
   ]
  },
  {
   "cell_type": "markdown",
   "metadata": {},
   "source": [
    "Compressed De Bruijn graph buiding"
   ]
  },
  {
   "cell_type": "code",
   "execution_count": 4,
   "metadata": {},
   "outputs": [
    {
     "name": "stderr",
     "output_type": "stream",
     "text": [
      "4108it [00:00, 4624.56it/s]\n"
     ]
    }
   ],
   "source": [
    "# de Bruijn graph buiding\n",
    "adj_matrix_full, kmer_coverage = build_debruijn_graph(READS_PATH, KMER_LEN)"
   ]
  },
  {
   "cell_type": "code",
   "execution_count": 5,
   "metadata": {},
   "outputs": [
    {
     "name": "stdout",
     "output_type": "stream",
     "text": [
      "CPU times: user 20.5 ms, sys: 816 µs, total: 21.3 ms\n",
      "Wall time: 20.5 ms\n"
     ]
    }
   ],
   "source": [
    "%%time\n",
    "# create edges table\n",
    "edges_full = get_edges(adj_matrix_full)"
   ]
  },
  {
   "cell_type": "code",
   "execution_count": 15,
   "metadata": {},
   "outputs": [
    {
     "name": "stdout",
     "output_type": "stream",
     "text": [
      "CPU times: user 9.39 s, sys: 15.4 ms, total: 9.41 s\n",
      "Wall time: 9.41 s\n"
     ]
    }
   ],
   "source": [
    "%%time\n",
    "# compress graph\n",
    "edges = make_graph_compression(edges_full)"
   ]
  },
  {
   "cell_type": "code",
   "execution_count": 16,
   "metadata": {},
   "outputs": [],
   "source": [
    "# calculate additional stat on edges\n",
    "edges = add_edges_statistics(edges, KMER_LEN, kmer_coverage)"
   ]
  },
  {
   "cell_type": "code",
   "execution_count": 17,
   "metadata": {},
   "outputs": [],
   "source": [
    "# results saving\n",
    "res_path = os.path.join(RES_PATH, \"full\")\n",
    "save_dot(edges, res_path, \"graph.dot\", \"nodes.json\")\n",
    "dot2png(res_path, \"graph.dot\", \"graph.png\")\n",
    "edges2fasta(edges, res_path, \"edges.fa\")"
   ]
  },
  {
   "cell_type": "markdown",
   "metadata": {},
   "source": [
    "<img src=\"results_S/full/graph.png\">"
   ]
  },
  {
   "cell_type": "markdown",
   "metadata": {},
   "source": [
    "Tips removal"
   ]
  },
  {
   "cell_type": "code",
   "execution_count": 33,
   "metadata": {},
   "outputs": [],
   "source": [
    "# tips removal\n",
    "edges_notips = remove_tips(\n",
    "    edges, len_cutoff=LEN_CUTOFF, cov_cutoff=COV_CUTOFF\n",
    ")"
   ]
  },
  {
   "cell_type": "code",
   "execution_count": 34,
   "metadata": {},
   "outputs": [],
   "source": [
    "# results saving\n",
    "res_path = os.path.join(RES_PATH, \"notips\")\n",
    "save_dot(edges_notips, res_path, \"graph_notips.dot\", \"nodes_notips.json\")\n",
    "dot2png(res_path, \"graph_notips.dot\", \"graph_notips.png\")\n",
    "edges2fasta(edges_notips, res_path, \"edges_notips.fa\")"
   ]
  },
  {
   "cell_type": "markdown",
   "metadata": {},
   "source": [
    "<img src=\"results_S/notips/graph_notips.png\">"
   ]
  },
  {
   "cell_type": "markdown",
   "metadata": {},
   "source": [
    "Any unreliable edges removal"
   ]
  },
  {
   "cell_type": "code",
   "execution_count": 35,
   "metadata": {},
   "outputs": [],
   "source": [
    "# tips removal\n",
    "edges_noany = remove_any(\n",
    "    edges, len_cutoff=LEN_CUTOFF, cov_cutoff=COV_CUTOFF\n",
    ")"
   ]
  },
  {
   "cell_type": "code",
   "execution_count": 36,
   "metadata": {},
   "outputs": [],
   "source": [
    "# results saving\n",
    "res_path = os.path.join(RES_PATH, \"noany\")\n",
    "save_dot(edges_noany, res_path, \"graph_noany.dot\", \"nodes_noany.json\")\n",
    "dot2png(res_path, \"graph_noany.dot\", \"graph_noany.png\")\n",
    "edges2fasta(edges_noany, res_path, \"edges_noany.fa\")"
   ]
  },
  {
   "cell_type": "markdown",
   "metadata": {},
   "source": [
    "<img src=\"results_S/noany/graph_noany.png\">"
   ]
  },
  {
   "cell_type": "markdown",
   "metadata": {},
   "source": [
    "При обеих стратегиях очистки графа получаем один и тот же результат, однако способ с удалением хвостиков более аккуратный, так как при его использовании гарантированно сохраняется число компонент связности в графе."
   ]
  },
  {
   "cell_type": "markdown",
   "metadata": {},
   "source": [
    "Final compression"
   ]
  },
  {
   "cell_type": "code",
   "execution_count": 37,
   "metadata": {},
   "outputs": [
    {
     "name": "stdout",
     "output_type": "stream",
     "text": [
      "CPU times: user 30.6 ms, sys: 2.32 ms, total: 32.9 ms\n",
      "Wall time: 31.7 ms\n"
     ]
    }
   ],
   "source": [
    "%%time\n",
    "# compress graph\n",
    "edges_final = make_graph_compression(edges_notips.iloc[:, :3])"
   ]
  },
  {
   "cell_type": "code",
   "execution_count": 38,
   "metadata": {},
   "outputs": [],
   "source": [
    "# calculate additional stat on edges\n",
    "edges_final = add_edges_statistics(edges_final, KMER_LEN, kmer_coverage)"
   ]
  },
  {
   "cell_type": "code",
   "execution_count": 39,
   "metadata": {},
   "outputs": [],
   "source": [
    "# results saving\n",
    "res_path = os.path.join(RES_PATH, \"final\")\n",
    "save_dot(edges_final, res_path, \"graph.dot\", \"nodes.json\")\n",
    "dot2png(res_path, \"graph.dot\", \"graph.png\")\n",
    "edges2fasta(edges_final, res_path, \"edges.fa\")"
   ]
  },
  {
   "cell_type": "markdown",
   "metadata": {},
   "source": [
    "<img src=\"results_S/final/graph.png\">"
   ]
  },
  {
   "cell_type": "markdown",
   "metadata": {},
   "source": [
    "## Library M (10,000 reads)"
   ]
  },
  {
   "cell_type": "code",
   "execution_count": 40,
   "metadata": {},
   "outputs": [],
   "source": [
    "READS_PATH = os.path.join(DATA_PATH, \"s_6.first10000.fastq.gz\")\n",
    "RES_PATH = \"results_M\""
   ]
  },
  {
   "cell_type": "markdown",
   "metadata": {},
   "source": [
    "Compressed De Bruijn graph buiding"
   ]
  },
  {
   "cell_type": "code",
   "execution_count": 41,
   "metadata": {},
   "outputs": [
    {
     "name": "stderr",
     "output_type": "stream",
     "text": [
      "56320it [00:13, 4063.40it/s]\n"
     ]
    }
   ],
   "source": [
    "# de Bruijn graph buiding\n",
    "adj_matrix_full, kmer_coverage = build_debruijn_graph(READS_PATH, KMER_LEN)"
   ]
  },
  {
   "cell_type": "code",
   "execution_count": 42,
   "metadata": {},
   "outputs": [
    {
     "name": "stdout",
     "output_type": "stream",
     "text": [
      "CPU times: user 1.44 s, sys: 132 ms, total: 1.57 s\n",
      "Wall time: 1.57 s\n"
     ]
    }
   ],
   "source": [
    "%%time\n",
    "# create edges table\n",
    "edges_full = get_edges(adj_matrix_full)"
   ]
  },
  {
   "cell_type": "code",
   "execution_count": 43,
   "metadata": {},
   "outputs": [
    {
     "name": "stdout",
     "output_type": "stream",
     "text": [
      "CPU times: user 3min 11s, sys: 428 ms, total: 3min 11s\n",
      "Wall time: 3min 12s\n"
     ]
    }
   ],
   "source": [
    "%%time\n",
    "# compress graph\n",
    "edges = make_graph_compression(edges_full)"
   ]
  },
  {
   "cell_type": "code",
   "execution_count": 44,
   "metadata": {},
   "outputs": [],
   "source": [
    "# calculate additional stat on edges\n",
    "edges = add_edges_statistics(edges, KMER_LEN, kmer_coverage)"
   ]
  },
  {
   "cell_type": "code",
   "execution_count": 45,
   "metadata": {},
   "outputs": [],
   "source": [
    "# results saving\n",
    "res_path = os.path.join(RES_PATH, \"full\")\n",
    "save_dot(edges, res_path, \"graph.dot\", \"nodes.json\")\n",
    "dot2png(res_path, \"graph.dot\", \"graph.png\")\n",
    "edges2fasta(edges, res_path, \"edges.fa\")"
   ]
  },
  {
   "cell_type": "markdown",
   "metadata": {},
   "source": [
    "<img src=\"results_M/full/graph.png\">"
   ]
  },
  {
   "cell_type": "markdown",
   "metadata": {},
   "source": [
    "Tips removal"
   ]
  },
  {
   "cell_type": "code",
   "execution_count": 46,
   "metadata": {},
   "outputs": [],
   "source": [
    "# tips removal\n",
    "edges_notips = remove_tips(\n",
    "    edges, len_cutoff=LEN_CUTOFF, cov_cutoff=COV_CUTOFF\n",
    ")"
   ]
  },
  {
   "cell_type": "code",
   "execution_count": 47,
   "metadata": {},
   "outputs": [],
   "source": [
    "# results saving\n",
    "res_path = os.path.join(RES_PATH, \"notips\")\n",
    "save_dot(edges_notips, res_path, \"graph_notips.dot\", \"nodes_notips.json\")\n",
    "dot2png(res_path, \"graph_notips.dot\", \"graph_notips.png\")\n",
    "edges2fasta(edges_notips, res_path, \"edges_notips.fa\")"
   ]
  },
  {
   "cell_type": "markdown",
   "metadata": {},
   "source": [
    "<img src=\"results_M/notips/graph_notips.png\">"
   ]
  },
  {
   "cell_type": "markdown",
   "metadata": {},
   "source": [
    "Final compression"
   ]
  },
  {
   "cell_type": "code",
   "execution_count": 49,
   "metadata": {},
   "outputs": [
    {
     "name": "stdout",
     "output_type": "stream",
     "text": [
      "CPU times: user 216 ms, sys: 3.11 ms, total: 219 ms\n",
      "Wall time: 218 ms\n"
     ]
    }
   ],
   "source": [
    "%%time\n",
    "# compress graph\n",
    "edges_final = make_graph_compression(edges_notips.iloc[:, :3])"
   ]
  },
  {
   "cell_type": "code",
   "execution_count": 50,
   "metadata": {},
   "outputs": [],
   "source": [
    "# calculate additional stat on edges\n",
    "edges_final = add_edges_statistics(edges_final, KMER_LEN, kmer_coverage)"
   ]
  },
  {
   "cell_type": "code",
   "execution_count": 51,
   "metadata": {},
   "outputs": [],
   "source": [
    "# results saving\n",
    "res_path = os.path.join(RES_PATH, \"final\")\n",
    "save_dot(edges_final, res_path, \"graph.dot\", \"nodes.json\")\n",
    "dot2png(res_path, \"graph.dot\", \"graph.png\")\n",
    "edges2fasta(edges_final, res_path, \"edges.fa\")"
   ]
  },
  {
   "cell_type": "markdown",
   "metadata": {},
   "source": [
    "<img src=\"results_M/final/graph.png\">"
   ]
  },
  {
   "cell_type": "code",
   "execution_count": null,
   "metadata": {},
   "outputs": [],
   "source": []
  },
  {
   "cell_type": "code",
   "execution_count": null,
   "metadata": {},
   "outputs": [],
   "source": []
  },
  {
   "cell_type": "code",
   "execution_count": null,
   "metadata": {},
   "outputs": [],
   "source": []
  },
  {
   "cell_type": "code",
   "execution_count": null,
   "metadata": {},
   "outputs": [],
   "source": []
  }
 ],
 "metadata": {
  "kernelspec": {
   "display_name": "Python 3",
   "language": "python",
   "name": "python3"
  },
  "language_info": {
   "codemirror_mode": {
    "name": "ipython",
    "version": 3
   },
   "file_extension": ".py",
   "mimetype": "text/x-python",
   "name": "python",
   "nbconvert_exporter": "python",
   "pygments_lexer": "ipython3",
   "version": "3.7.4"
  }
 },
 "nbformat": 4,
 "nbformat_minor": 4
}
