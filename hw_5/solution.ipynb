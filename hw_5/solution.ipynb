{
 "cells": [
  {
   "cell_type": "markdown",
   "metadata": {},
   "source": [
    "# Анализ данных NGS. Домашнее задание № 5"
   ]
  },
  {
   "cell_type": "markdown",
   "metadata": {},
   "source": [
    "Выполнил: Олег Вавулов"
   ]
  },
  {
   "cell_type": "code",
   "execution_count": 1,
   "metadata": {},
   "outputs": [
    {
     "name": "stdout",
     "output_type": "stream",
     "text": [
      "ECOLI_IS220_QUAKE_1K_paired_reads.fasta s_6.first100000.fastq.gz\n",
      "ECOLI_IS220_QUAKE_1K_single_reads.fasta test1.fasta\n",
      "s_6.first1000.fastq.gz                  test2.fasta\n",
      "s_6.first10000.fastq.gz\n"
     ]
    }
   ],
   "source": [
    "!ls ../../data/hw_5"
   ]
  },
  {
   "cell_type": "code",
   "execution_count": 63,
   "metadata": {},
   "outputs": [
    {
     "name": "stdout",
     "output_type": "stream",
     "text": [
      "The autoreload extension is already loaded. To reload it, use:\n",
      "  %reload_ext autoreload\n"
     ]
    }
   ],
   "source": [
    "%load_ext autoreload\n",
    "%autoreload 2\n",
    "\n",
    "import warnings\n",
    "warnings.filterwarnings(\"ignore\")\n",
    "\n",
    "import os\n",
    "from debruijn import *\n",
    "\n",
    "DATA_PATH = \"../../data/hw_5\"\n",
    "KMER_LEN = 55\n",
    "COV_CUTOFF = 50\n",
    "LEN_CUTOFF = 50"
   ]
  },
  {
   "cell_type": "markdown",
   "metadata": {},
   "source": [
    "# Что исправить"
   ]
  },
  {
   "cell_type": "markdown",
   "metadata": {},
   "source": [
    "- (DONE) покрытие по k+1 мерам\n",
    "- (DONE) сжать после удаления хвостиков\n",
    "- (DONE) ускорить (словари)\n",
    "- (DONE) посчитать для больших библиотек"
   ]
  },
  {
   "cell_type": "markdown",
   "metadata": {},
   "source": [
    "# De Bruijn graph"
   ]
  },
  {
   "cell_type": "markdown",
   "metadata": {},
   "source": [
    "## Library S (1000 reads)"
   ]
  },
  {
   "cell_type": "code",
   "execution_count": 56,
   "metadata": {},
   "outputs": [],
   "source": [
    "READS_PATH = os.path.join(DATA_PATH, \"s_6.first1000.fastq.gz\")\n",
    "RES_PATH = \"results_S\""
   ]
  },
  {
   "cell_type": "markdown",
   "metadata": {},
   "source": [
    "Compressed De Bruijn graph buiding"
   ]
  },
  {
   "cell_type": "code",
   "execution_count": 57,
   "metadata": {},
   "outputs": [
    {
     "name": "stderr",
     "output_type": "stream",
     "text": [
      "4108it [00:00, 4790.58it/s]\n"
     ]
    }
   ],
   "source": [
    "# de Bruijn graph buiding\n",
    "adjlist_full, kmer_coverage = build_debruijn_graph(READS_PATH, KMER_LEN)"
   ]
  },
  {
   "cell_type": "code",
   "execution_count": 58,
   "metadata": {},
   "outputs": [
    {
     "name": "stdout",
     "output_type": "stream",
     "text": [
      "CPU times: user 5.35 ms, sys: 71 µs, total: 5.42 ms\n",
      "Wall time: 5.4 ms\n"
     ]
    }
   ],
   "source": [
    "%%time\n",
    "# create edges table\n",
    "edges_full = get_edges(adjlist_full)"
   ]
  },
  {
   "cell_type": "code",
   "execution_count": 117,
   "metadata": {},
   "outputs": [
    {
     "name": "stdout",
     "output_type": "stream",
     "text": [
      "CPU times: user 7.69 s, sys: 9.48 ms, total: 7.7 s\n",
      "Wall time: 7.7 s\n"
     ]
    }
   ],
   "source": [
    "%%time\n",
    "# compress graph\n",
    "edges = make_graph_compression(edges_full)"
   ]
  },
  {
   "cell_type": "code",
   "execution_count": 25,
   "metadata": {},
   "outputs": [],
   "source": [
    "# calculate additional stat on edges\n",
    "edges = add_edges_statistics(edges, KMER_LEN, kmer_coverage)"
   ]
  },
  {
   "cell_type": "code",
   "execution_count": 26,
   "metadata": {},
   "outputs": [],
   "source": [
    "# results saving\n",
    "res_path = os.path.join(RES_PATH, \"full\")\n",
    "save_dot(edges, res_path, \"graph.dot\", \"nodes.json\")\n",
    "dot2png(res_path, \"graph.dot\", \"graph.png\")\n",
    "edges2fasta(edges, res_path, \"edges.fa\")"
   ]
  },
  {
   "cell_type": "markdown",
   "metadata": {},
   "source": [
    "<img src=\"./results_S/full/graph.png\">"
   ]
  },
  {
   "cell_type": "markdown",
   "metadata": {},
   "source": [
    "Tips removal"
   ]
  },
  {
   "cell_type": "code",
   "execution_count": 27,
   "metadata": {},
   "outputs": [],
   "source": [
    "# tips removal\n",
    "edges_notips = remove_tips(\n",
    "    edges, len_cutoff=LEN_CUTOFF, cov_cutoff=COV_CUTOFF\n",
    ")"
   ]
  },
  {
   "cell_type": "code",
   "execution_count": 28,
   "metadata": {},
   "outputs": [],
   "source": [
    "# results saving\n",
    "res_path = os.path.join(RES_PATH, \"notips\")\n",
    "save_dot(edges_notips, res_path, \"graph_notips.dot\", \"nodes_notips.json\")\n",
    "dot2png(res_path, \"graph_notips.dot\", \"graph_notips.png\")\n",
    "edges2fasta(edges_notips, res_path, \"edges_notips.fa\")"
   ]
  },
  {
   "cell_type": "markdown",
   "metadata": {},
   "source": [
    "<img src=\"results_S/notips/graph_notips.png\">"
   ]
  },
  {
   "cell_type": "markdown",
   "metadata": {},
   "source": [
    "Any unreliable edges removal"
   ]
  },
  {
   "cell_type": "code",
   "execution_count": 30,
   "metadata": {},
   "outputs": [],
   "source": [
    "# tips removal\n",
    "edges_noany = remove_any(\n",
    "    edges, len_cutoff=LEN_CUTOFF, cov_cutoff=COV_CUTOFF\n",
    ")"
   ]
  },
  {
   "cell_type": "code",
   "execution_count": 31,
   "metadata": {},
   "outputs": [],
   "source": [
    "# results saving\n",
    "res_path = os.path.join(RES_PATH, \"noany\")\n",
    "save_dot(edges_noany, res_path, \"graph_noany.dot\", \"nodes_noany.json\")\n",
    "dot2png(res_path, \"graph_noany.dot\", \"graph_noany.png\")\n",
    "edges2fasta(edges_noany, res_path, \"edges_noany.fa\")"
   ]
  },
  {
   "cell_type": "markdown",
   "metadata": {},
   "source": [
    "<img src=\"results_S/noany/graph_noany.png\">"
   ]
  },
  {
   "cell_type": "markdown",
   "metadata": {},
   "source": [
    "При обеих стратегиях очистки графа получаем один и тот же результат, однако способ с удалением хвостиков более аккуратный, так как при его использовании гарантированно сохраняется число компонент связности в графе."
   ]
  },
  {
   "cell_type": "markdown",
   "metadata": {},
   "source": [
    "Final compression"
   ]
  },
  {
   "cell_type": "code",
   "execution_count": 32,
   "metadata": {},
   "outputs": [
    {
     "name": "stdout",
     "output_type": "stream",
     "text": [
      "CPU times: user 30.9 ms, sys: 1.75 ms, total: 32.7 ms\n",
      "Wall time: 31.8 ms\n"
     ]
    }
   ],
   "source": [
    "%%time\n",
    "# compress graph\n",
    "edges_final = make_graph_compression(edges_notips.iloc[:, :3])"
   ]
  },
  {
   "cell_type": "code",
   "execution_count": 33,
   "metadata": {},
   "outputs": [],
   "source": [
    "# calculate additional stat on edges\n",
    "edges_final = add_edges_statistics(edges_final, KMER_LEN, kmer_coverage)"
   ]
  },
  {
   "cell_type": "code",
   "execution_count": 34,
   "metadata": {},
   "outputs": [],
   "source": [
    "# results saving\n",
    "res_path = os.path.join(RES_PATH, \"final\")\n",
    "save_dot(edges_final, res_path, \"graph.dot\", \"nodes.json\")\n",
    "dot2png(res_path, \"graph.dot\", \"graph.png\")\n",
    "edges2fasta(edges_final, res_path, \"edges.fa\")"
   ]
  },
  {
   "cell_type": "markdown",
   "metadata": {},
   "source": [
    "<img src=\"results_S/final/graph.png\">"
   ]
  },
  {
   "cell_type": "markdown",
   "metadata": {},
   "source": [
    "## Library M (10,000 reads)"
   ]
  },
  {
   "cell_type": "code",
   "execution_count": 119,
   "metadata": {},
   "outputs": [],
   "source": [
    "READS_PATH = os.path.join(DATA_PATH, \"s_6.first10000.fastq.gz\")\n",
    "RES_PATH = \"results_M\""
   ]
  },
  {
   "cell_type": "markdown",
   "metadata": {},
   "source": [
    "Compressed De Bruijn graph buiding"
   ]
  },
  {
   "cell_type": "code",
   "execution_count": 120,
   "metadata": {},
   "outputs": [
    {
     "name": "stderr",
     "output_type": "stream",
     "text": [
      "56320it [00:14, 3994.31it/s]\n"
     ]
    }
   ],
   "source": [
    "# de Bruijn graph buiding\n",
    "adjlist_full, kmer_coverage = build_debruijn_graph(READS_PATH, KMER_LEN)"
   ]
  },
  {
   "cell_type": "code",
   "execution_count": 121,
   "metadata": {},
   "outputs": [
    {
     "name": "stdout",
     "output_type": "stream",
     "text": [
      "CPU times: user 35.1 ms, sys: 1.16 ms, total: 36.3 ms\n",
      "Wall time: 35.6 ms\n"
     ]
    }
   ],
   "source": [
    "%%time\n",
    "# create edges table\n",
    "edges_full = get_edges(adjlist_full)"
   ]
  },
  {
   "cell_type": "code",
   "execution_count": 122,
   "metadata": {},
   "outputs": [
    {
     "name": "stdout",
     "output_type": "stream",
     "text": [
      "CPU times: user 2min 49s, sys: 246 ms, total: 2min 49s\n",
      "Wall time: 2min 49s\n"
     ]
    }
   ],
   "source": [
    "%%time\n",
    "# compress graph\n",
    "edges = make_graph_compression(edges_full)"
   ]
  },
  {
   "cell_type": "code",
   "execution_count": 123,
   "metadata": {},
   "outputs": [],
   "source": [
    "# calculate additional stat on edges\n",
    "edges = add_edges_statistics(edges, KMER_LEN, kmer_coverage)"
   ]
  },
  {
   "cell_type": "code",
   "execution_count": 124,
   "metadata": {},
   "outputs": [],
   "source": [
    "# results saving\n",
    "res_path = os.path.join(RES_PATH, \"full\")\n",
    "save_dot(edges, res_path, \"graph.dot\", \"nodes.json\")\n",
    "dot2png(res_path, \"graph.dot\", \"graph.png\")\n",
    "edges2fasta(edges, res_path, \"edges.fa\")"
   ]
  },
  {
   "cell_type": "markdown",
   "metadata": {},
   "source": [
    "<img src=\"results_M/full/graph.png\">"
   ]
  },
  {
   "cell_type": "markdown",
   "metadata": {},
   "source": [
    "Tips removal"
   ]
  },
  {
   "cell_type": "code",
   "execution_count": 125,
   "metadata": {},
   "outputs": [],
   "source": [
    "# tips removal\n",
    "edges_notips = remove_tips(\n",
    "    edges, len_cutoff=LEN_CUTOFF, cov_cutoff=COV_CUTOFF\n",
    ")"
   ]
  },
  {
   "cell_type": "code",
   "execution_count": 126,
   "metadata": {},
   "outputs": [],
   "source": [
    "# results saving\n",
    "res_path = os.path.join(RES_PATH, \"notips\")\n",
    "save_dot(edges_notips, res_path, \"graph_notips.dot\", \"nodes_notips.json\")\n",
    "dot2png(res_path, \"graph_notips.dot\", \"graph_notips.png\")\n",
    "edges2fasta(edges_notips, res_path, \"edges_notips.fa\")"
   ]
  },
  {
   "cell_type": "markdown",
   "metadata": {},
   "source": [
    "<img src=\"results_M/notips/graph_notips.png\">"
   ]
  },
  {
   "cell_type": "markdown",
   "metadata": {},
   "source": [
    "Final compression"
   ]
  },
  {
   "cell_type": "code",
   "execution_count": 127,
   "metadata": {},
   "outputs": [
    {
     "name": "stdout",
     "output_type": "stream",
     "text": [
      "CPU times: user 178 ms, sys: 2.83 ms, total: 181 ms\n",
      "Wall time: 181 ms\n"
     ]
    }
   ],
   "source": [
    "%%time\n",
    "# compress graph\n",
    "edges_final = make_graph_compression(edges_notips.iloc[:, :3])"
   ]
  },
  {
   "cell_type": "code",
   "execution_count": 128,
   "metadata": {},
   "outputs": [],
   "source": [
    "# calculate additional stat on edges\n",
    "edges_final = add_edges_statistics(edges_final, KMER_LEN, kmer_coverage)"
   ]
  },
  {
   "cell_type": "code",
   "execution_count": 129,
   "metadata": {},
   "outputs": [],
   "source": [
    "# results saving\n",
    "res_path = os.path.join(RES_PATH, \"final\")\n",
    "save_dot(edges_final, res_path, \"graph.dot\", \"nodes.json\")\n",
    "dot2png(res_path, \"graph.dot\", \"graph.png\")\n",
    "edges2fasta(edges_final, res_path, \"edges.fa\")"
   ]
  },
  {
   "cell_type": "markdown",
   "metadata": {},
   "source": [
    "<img src=\"results_M/final/graph.png\">"
   ]
  },
  {
   "cell_type": "markdown",
   "metadata": {},
   "source": [
    "## Library L (100,000 reads)"
   ]
  },
  {
   "cell_type": "code",
   "execution_count": 130,
   "metadata": {},
   "outputs": [],
   "source": [
    "READS_PATH = os.path.join(DATA_PATH, \"s_6.first100000.fastq.gz\")\n",
    "RES_PATH = \"results_L\""
   ]
  },
  {
   "cell_type": "markdown",
   "metadata": {},
   "source": [
    "Compressed De Bruijn graph buiding"
   ]
  },
  {
   "cell_type": "code",
   "execution_count": 131,
   "metadata": {},
   "outputs": [
    {
     "name": "stderr",
     "output_type": "stream",
     "text": [
      "612348it [02:45, 3710.69it/s]\n"
     ]
    }
   ],
   "source": [
    "# de Bruijn graph buiding\n",
    "adjlist_full, kmer_coverage = build_debruijn_graph(READS_PATH, KMER_LEN)"
   ]
  },
  {
   "cell_type": "code",
   "execution_count": 132,
   "metadata": {},
   "outputs": [
    {
     "name": "stdout",
     "output_type": "stream",
     "text": [
      "CPU times: user 566 ms, sys: 9.85 ms, total: 576 ms\n",
      "Wall time: 574 ms\n"
     ]
    }
   ],
   "source": [
    "%%time\n",
    "# create edges table\n",
    "edges_full = get_edges(adjlist_full)"
   ]
  },
  {
   "cell_type": "code",
   "execution_count": 141,
   "metadata": {},
   "outputs": [
    {
     "name": "stderr",
     "output_type": "stream",
     "text": [
      "100%|██████████| 203240/203240 [5:00:29<00:00, 11.27it/s]  \n"
     ]
    },
    {
     "name": "stdout",
     "output_type": "stream",
     "text": [
      "CPU times: user 4h 58min, sys: 2min 40s, total: 5h 40s\n",
      "Wall time: 5h 30s\n"
     ]
    }
   ],
   "source": [
    "%%time\n",
    "# compress graph\n",
    "edges = make_graph_compression(edges_full)"
   ]
  },
  {
   "cell_type": "code",
   "execution_count": 143,
   "metadata": {},
   "outputs": [],
   "source": [
    "# calculate additional stat on edges\n",
    "edges = add_edges_statistics(edges, KMER_LEN, kmer_coverage)"
   ]
  },
  {
   "cell_type": "code",
   "execution_count": 144,
   "metadata": {},
   "outputs": [],
   "source": [
    "# results saving\n",
    "res_path = os.path.join(RES_PATH, \"full\")\n",
    "save_dot(edges, res_path, \"graph.dot\", \"nodes.json\")\n",
    "dot2png(res_path, \"graph.dot\", \"graph.png\")\n",
    "edges2fasta(edges, res_path, \"edges.fa\")"
   ]
  },
  {
   "cell_type": "markdown",
   "metadata": {},
   "source": [
    "Tips removal"
   ]
  },
  {
   "cell_type": "code",
   "execution_count": 145,
   "metadata": {},
   "outputs": [],
   "source": [
    "# tips removal\n",
    "edges_notips = remove_tips(\n",
    "    edges, len_cutoff=LEN_CUTOFF, cov_cutoff=COV_CUTOFF\n",
    ")"
   ]
  },
  {
   "cell_type": "code",
   "execution_count": 147,
   "metadata": {},
   "outputs": [],
   "source": [
    "# results saving\n",
    "res_path = os.path.join(RES_PATH, \"notips\")\n",
    "save_dot(edges_notips, res_path, \"graph_notips.dot\", \"nodes_notips.json\")\n",
    "dot2png(res_path, \"graph_notips.dot\", \"graph_notips.png\")\n",
    "edges2fasta(edges_notips, res_path, \"edges_notips.fa\")"
   ]
  },
  {
   "cell_type": "markdown",
   "metadata": {},
   "source": [
    "Final compression"
   ]
  },
  {
   "cell_type": "code",
   "execution_count": 161,
   "metadata": {},
   "outputs": [
    {
     "name": "stderr",
     "output_type": "stream",
     "text": [
      "0it [00:00, ?it/s]"
     ]
    },
    {
     "name": "stdout",
     "output_type": "stream",
     "text": [
      "CPU times: user 5.81 ms, sys: 1.56 ms, total: 7.37 ms\n",
      "Wall time: 6.49 ms\n"
     ]
    },
    {
     "name": "stderr",
     "output_type": "stream",
     "text": [
      "\n"
     ]
    }
   ],
   "source": [
    "%%time\n",
    "# compress graph\n",
    "edges_final = make_graph_compression(edges_notips.iloc[:, :3])"
   ]
  },
  {
   "cell_type": "code",
   "execution_count": 162,
   "metadata": {},
   "outputs": [],
   "source": [
    "# calculate additional stat on edges\n",
    "edges_final = add_edges_statistics(edges_final, KMER_LEN, kmer_coverage)"
   ]
  },
  {
   "cell_type": "code",
   "execution_count": 160,
   "metadata": {},
   "outputs": [],
   "source": [
    "# tips removal\n",
    "edges_notips = remove_tips(\n",
    "    edges_final, len_cutoff=LEN_CUTOFF, cov_cutoff=COV_CUTOFF\n",
    ")"
   ]
  },
  {
   "cell_type": "code",
   "execution_count": 156,
   "metadata": {},
   "outputs": [],
   "source": [
    "# tips removal\n",
    "edges_notips = remove_any(\n",
    "    edges_final, len_cutoff=LEN_CUTOFF, cov_cutoff=COV_CUTOFF\n",
    ")"
   ]
  },
  {
   "cell_type": "code",
   "execution_count": 159,
   "metadata": {},
   "outputs": [],
   "source": [
    "# results saving\n",
    "res_path = os.path.join(RES_PATH, \"final\")\n",
    "save_dot(edges_final, res_path, \"graph.dot\", \"nodes.json\")\n",
    "dot2png(res_path, \"graph.dot\", \"graph.png\")\n",
    "edges2fasta(edges_final, res_path, \"edges.fa\")"
   ]
  },
  {
   "cell_type": "markdown",
   "metadata": {},
   "source": [
    "<img src=\"results_L/final/graph.png\">"
   ]
  },
  {
   "cell_type": "code",
   "execution_count": null,
   "metadata": {},
   "outputs": [],
   "source": []
  }
 ],
 "metadata": {
  "kernelspec": {
   "display_name": "Python 3",
   "language": "python",
   "name": "python3"
  },
  "language_info": {
   "codemirror_mode": {
    "name": "ipython",
    "version": 3
   },
   "file_extension": ".py",
   "mimetype": "text/x-python",
   "name": "python",
   "nbconvert_exporter": "python",
   "pygments_lexer": "ipython3",
   "version": "3.7.4"
  }
 },
 "nbformat": 4,
 "nbformat_minor": 4
}
