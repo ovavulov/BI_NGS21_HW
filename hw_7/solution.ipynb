{
 "cells": [
  {
   "cell_type": "markdown",
   "metadata": {},
   "source": [
    "# Анализ данных NGS. Домашнее задание № 7"
   ]
  },
  {
   "cell_type": "markdown",
   "metadata": {},
   "source": [
    "Выполнил: Олег Вавулов"
   ]
  },
  {
   "cell_type": "code",
   "execution_count": 84,
   "metadata": {},
   "outputs": [],
   "source": [
    "import numpy as np\n",
    "import pandas as pd\n",
    "from matplotlib import pyplot as plt\n",
    "from tqdm import tqdm"
   ]
  },
  {
   "cell_type": "markdown",
   "metadata": {},
   "source": [
    "#### 0. Контроль качества и фильтрация ридов"
   ]
  },
  {
   "cell_type": "markdown",
   "metadata": {},
   "source": [
    "Прогнали риды через fastQC. Для прямых ридов все ок, по обратным есть падение качества в конце прочтений"
   ]
  },
  {
   "cell_type": "markdown",
   "metadata": {},
   "source": [
    "<img src=\"./bad_quality.png\" width=500 height=500/>"
   ]
  },
  {
   "cell_type": "markdown",
   "metadata": {},
   "source": [
    "Прогоним риды через trimmomatic, чтобы отфильтровать их по качеству"
   ]
  },
  {
   "cell_type": "markdown",
   "metadata": {},
   "source": [
    "trimmomatic PE -phred33 -trimlog trimlog.txt -summary trimsummary.txt SRR453566_1.fastq.gz SRR453566_2.fastq.gz out_1P.fq out_1U.fq out_2P.fq out_2U.fq LEADING:20 TRAILING:20 SLIDINGWINDOW:10:20 MINLEN:20\n",
    "\n",
    "TrimmomaticPE: Started with arguments:\n",
    " -phred33 -trimlog trimlog.txt -summary trimsummary.txt SRR453566_1.fastq.gz SRR453566_2.fastq.gz out_1P.fq out_1U.fq out_2P.fq out_2U.fq LEADING:20 TRAILING:20 SLIDINGWINDOW:10:20 MINLEN:20\n",
    "Input Read Pairs: 5725730 Both Surviving: 5652116 (98,71%) Forward Only Surviving: 64968 (1,13%) Reverse Only Surviving: 7314 (0,13%) Dropped: 1332 (0,02%)\n",
    "TrimmomaticPE: Completed successfully"
   ]
  },
  {
   "cell_type": "markdown",
   "metadata": {},
   "source": [
    "При этом отфильтрованные риды будем использовать только при сборке. При референсном анализе будем использовать сырые риды, чтобы ненароком не внести смещение"
   ]
  },
  {
   "cell_type": "markdown",
   "metadata": {},
   "source": [
    "#### 1. Индексируем референс"
   ]
  },
  {
   "cell_type": "markdown",
   "metadata": {},
   "source": [
    "hisat2-build ref.fa hw7reference"
   ]
  },
  {
   "cell_type": "markdown",
   "metadata": {},
   "source": [
    "#### 2. Делаем выравнивание"
   ]
  },
  {
   "cell_type": "markdown",
   "metadata": {},
   "source": [
    "hisat2 -p 4 -x ./hw7reference \n",
    "\n",
    "-1 SRR453566_1.fastq.gz -2 SRR453566_2.fastq.gz | \n",
    "\n",
    "samtools sort > ./hw7alignment.bam"
   ]
  },
  {
   "cell_type": "markdown",
   "metadata": {},
   "source": [
    "Output:\n",
    "\n",
    "5725730 reads; of these:\n",
    "\n",
    "  5725730 (100.00%) were paired; of these:\n",
    "  \n",
    "    1190830 (20.80%) aligned concordantly 0 times\n",
    "    4291344 (74.95%) aligned concordantly exactly 1 time\n",
    "    243556 (4.25%) aligned concordantly >1 times\n",
    "    ----\n",
    "    1190830 pairs aligned concordantly 0 times; of these:\n",
    "      136484 (11.46%) aligned discordantly 1 time\n",
    "    ----\n",
    "    1054346 pairs aligned 0 times concordantly or discordantly; of these:\n",
    "      2108692 mates make up the pairs; of these:\n",
    "        1419212 (67.30%) aligned 0 times\n",
    "        637771 (30.24%) aligned exactly 1 time\n",
    "        51709 (2.45%) aligned >1 times\n",
    "87.61% overall alignment rate"
   ]
  },
  {
   "cell_type": "markdown",
   "metadata": {},
   "source": [
    "#### 3. Подсчитываем риды\n",
    "Будем считать попадания ридов с помощью featureCounts. Парные риды рассматриваем как один фрагмент для дальнейшего корректного расчета метрик покрытия"
   ]
  },
  {
   "cell_type": "markdown",
   "metadata": {},
   "source": [
    "featureCounts -a genes.gtf.gz -t 'gene' -R SAM -p -T 4 -o total_counts.txt ./hw7alignment.bam"
   ]
  },
  {
   "cell_type": "markdown",
   "metadata": {},
   "source": [
    "Для начала подсчитаем покрытие каждого гена по метрике TPM"
   ]
  },
  {
   "cell_type": "code",
   "execution_count": 25,
   "metadata": {},
   "outputs": [
    {
     "name": "stdout",
     "output_type": "stream",
     "text": [
      "Total genes number: 7126\n"
     ]
    },
    {
     "data": {
      "text/html": [
       "<div>\n",
       "<style scoped>\n",
       "    .dataframe tbody tr th:only-of-type {\n",
       "        vertical-align: middle;\n",
       "    }\n",
       "\n",
       "    .dataframe tbody tr th {\n",
       "        vertical-align: top;\n",
       "    }\n",
       "\n",
       "    .dataframe thead th {\n",
       "        text-align: right;\n",
       "    }\n",
       "</style>\n",
       "<table border=\"1\" class=\"dataframe\">\n",
       "  <thead>\n",
       "    <tr style=\"text-align: right;\">\n",
       "      <th></th>\n",
       "      <th>Geneid</th>\n",
       "      <th>Chr</th>\n",
       "      <th>Start</th>\n",
       "      <th>End</th>\n",
       "      <th>Strand</th>\n",
       "      <th>Length</th>\n",
       "      <th>Counts</th>\n",
       "      <th>RPK</th>\n",
       "      <th>TPM</th>\n",
       "    </tr>\n",
       "  </thead>\n",
       "  <tbody>\n",
       "    <tr>\n",
       "      <td>0</td>\n",
       "      <td>YDL248W</td>\n",
       "      <td>IV</td>\n",
       "      <td>1802</td>\n",
       "      <td>2953</td>\n",
       "      <td>+</td>\n",
       "      <td>1152</td>\n",
       "      <td>324</td>\n",
       "      <td>281.250000</td>\n",
       "      <td>55.672541</td>\n",
       "    </tr>\n",
       "    <tr>\n",
       "      <td>1</td>\n",
       "      <td>YDL247W-A</td>\n",
       "      <td>IV</td>\n",
       "      <td>3762</td>\n",
       "      <td>3836</td>\n",
       "      <td>+</td>\n",
       "      <td>75</td>\n",
       "      <td>9</td>\n",
       "      <td>120.000000</td>\n",
       "      <td>23.753618</td>\n",
       "    </tr>\n",
       "    <tr>\n",
       "      <td>2</td>\n",
       "      <td>YDL247W</td>\n",
       "      <td>IV</td>\n",
       "      <td>5985</td>\n",
       "      <td>7814</td>\n",
       "      <td>+</td>\n",
       "      <td>1830</td>\n",
       "      <td>10</td>\n",
       "      <td>5.464481</td>\n",
       "      <td>1.081677</td>\n",
       "    </tr>\n",
       "    <tr>\n",
       "      <td>3</td>\n",
       "      <td>YDL246C</td>\n",
       "      <td>IV</td>\n",
       "      <td>8683</td>\n",
       "      <td>9756</td>\n",
       "      <td>-</td>\n",
       "      <td>1074</td>\n",
       "      <td>7</td>\n",
       "      <td>6.517691</td>\n",
       "      <td>1.290156</td>\n",
       "    </tr>\n",
       "    <tr>\n",
       "      <td>4</td>\n",
       "      <td>YDL245C</td>\n",
       "      <td>IV</td>\n",
       "      <td>11657</td>\n",
       "      <td>13360</td>\n",
       "      <td>-</td>\n",
       "      <td>1704</td>\n",
       "      <td>21</td>\n",
       "      <td>12.323944</td>\n",
       "      <td>2.439485</td>\n",
       "    </tr>\n",
       "  </tbody>\n",
       "</table>\n",
       "</div>"
      ],
      "text/plain": [
       "      Geneid Chr  Start    End Strand  Length  Counts         RPK        TPM\n",
       "0    YDL248W  IV   1802   2953      +    1152     324  281.250000  55.672541\n",
       "1  YDL247W-A  IV   3762   3836      +      75       9  120.000000  23.753618\n",
       "2    YDL247W  IV   5985   7814      +    1830      10    5.464481   1.081677\n",
       "3    YDL246C  IV   8683   9756      -    1074       7    6.517691   1.290156\n",
       "4    YDL245C  IV  11657  13360      -    1704      21   12.323944   2.439485"
      ]
     },
     "execution_count": 25,
     "metadata": {},
     "output_type": "execute_result"
    }
   ],
   "source": [
    "count_df = pd.read_csv(\"total_counts.txt\", sep=\"\\t\", skiprows=1)\n",
    "new_col_names = list(count_df.columns)\n",
    "new_col_names[-1] = \"Counts\"\n",
    "count_df.columns = new_col_names\n",
    "\n",
    "# нормируем на длину гена в килобазах\n",
    "count_df[\"RPK\"] = count_df.Counts / (count_df.Length * 0.001)\n",
    "# расчитываем TPM\n",
    "scaling_factor = count_df.RPK.sum() / 1e6\n",
    "count_df[\"TPM\"] = count_df[\"RPK\"] / scaling_factor\n",
    "\n",
    "print(f\"Total genes number: {len(count_df.Geneid.unique())}\")\n",
    "count_df.head()"
   ]
  },
  {
   "cell_type": "code",
   "execution_count": 24,
   "metadata": {},
   "outputs": [
    {
     "data": {
      "text/plain": [
       "(7126, 7126)"
      ]
     },
     "execution_count": 24,
     "metadata": {},
     "output_type": "execute_result"
    }
   ],
   "source": []
  },
  {
   "cell_type": "markdown",
   "metadata": {},
   "source": [
    "Построим распределение покрытия"
   ]
  },
  {
   "cell_type": "code",
   "execution_count": 29,
   "metadata": {},
   "outputs": [
    {
     "data": {
      "image/png": "[encoded data removed]",
      "text/plain": [
       "<Figure size 432x288 with 1 Axes>"
      ]
     },
     "metadata": {
      "needs_background": "light"
     },
     "output_type": "display_data"
    }
   ],
   "source": [
    "tpm = count_df.TPM\n",
    "tpm[tpm > 0].hist(bins=100);"
   ]
  },
  {
   "cell_type": "code",
   "execution_count": 48,
   "metadata": {},
   "outputs": [
    {
     "name": "stdout",
     "output_type": "stream",
     "text": [
      "Fraction of genes with TPM above 0: 90.46%\n"
     ]
    }
   ],
   "source": [
    "tpm_threshold = 0\n",
    "print(f\"Fraction of genes with TPM above {tpm_threshold}: \\\n",
    "{100*len(tpm[tpm > tpm_threshold])/len(tpm):.2f}%\")"
   ]
  },
  {
   "cell_type": "code",
   "execution_count": 49,
   "metadata": {},
   "outputs": [
    {
     "data": {
      "image/png": "[encoded data removed]",
      "text/plain": [
       "<Figure size 432x288 with 1 Axes>"
      ]
     },
     "metadata": {
      "needs_background": "light"
     },
     "output_type": "display_data"
    }
   ],
   "source": [
    "x = np.linspace(0, 10, 1000)\n",
    "y = [len(tpm[tpm >= i])/len(tpm) for i in x]\n",
    "plt.title(\"Fraction of genes with TPM more or equal\")\n",
    "plt.grid()\n",
    "plt.plot(x, y);"
   ]
  },
  {
   "cell_type": "markdown",
   "metadata": {},
   "source": [
    "Будем считать, что не экспрессируются гены с TPM = 0. В таком случае экспрессирующихся генов равен:"
   ]
  },
  {
   "cell_type": "code",
   "execution_count": 95,
   "metadata": {},
   "outputs": [],
   "source": [
    "TPM_LOWER_BOUND = 0"
   ]
  },
  {
   "cell_type": "markdown",
   "metadata": {},
   "source": [
    "Теперь отфильтруем слабопокрытые гены"
   ]
  },
  {
   "cell_type": "code",
   "execution_count": 96,
   "metadata": {},
   "outputs": [],
   "source": [
    "COVERAGE_LOWER_BOUND = 0.95"
   ]
  },
  {
   "cell_type": "markdown",
   "metadata": {},
   "source": [
    "bedtools genomecov -ibam ./hw7alignment.bam -d > ./detailed_coverage_hist.tsv"
   ]
  },
  {
   "cell_type": "code",
   "execution_count": 76,
   "metadata": {},
   "outputs": [
    {
     "data": {
      "text/html": [
       "<div>\n",
       "<style scoped>\n",
       "    .dataframe tbody tr th:only-of-type {\n",
       "        vertical-align: middle;\n",
       "    }\n",
       "\n",
       "    .dataframe tbody tr th {\n",
       "        vertical-align: top;\n",
       "    }\n",
       "\n",
       "    .dataframe thead th {\n",
       "        text-align: right;\n",
       "    }\n",
       "</style>\n",
       "<table border=\"1\" class=\"dataframe\">\n",
       "  <thead>\n",
       "    <tr style=\"text-align: right;\">\n",
       "      <th></th>\n",
       "      <th>chrom</th>\n",
       "      <th>pos</th>\n",
       "      <th>cov</th>\n",
       "    </tr>\n",
       "  </thead>\n",
       "  <tbody>\n",
       "    <tr>\n",
       "      <td>3557395</td>\n",
       "      <td>V</td>\n",
       "      <td>139774</td>\n",
       "      <td>1038</td>\n",
       "    </tr>\n",
       "    <tr>\n",
       "      <td>10503931</td>\n",
       "      <td>XV</td>\n",
       "      <td>386184</td>\n",
       "      <td>61</td>\n",
       "    </tr>\n",
       "    <tr>\n",
       "      <td>10054074</td>\n",
       "      <td>XIV</td>\n",
       "      <td>720660</td>\n",
       "      <td>105</td>\n",
       "    </tr>\n",
       "  </tbody>\n",
       "</table>\n",
       "</div>"
      ],
      "text/plain": [
       "         chrom     pos   cov\n",
       "3557395      V  139774  1038\n",
       "10503931    XV  386184    61\n",
       "10054074   XIV  720660   105"
      ]
     },
     "execution_count": 76,
     "metadata": {},
     "output_type": "execute_result"
    }
   ],
   "source": [
    "cov_df = pd.read_csv(\"detailed_coverage_hist.tsv\", sep=\"\\t\", header=None)\n",
    "cov_df.columns = [\"chrom\", \"pos\", \"cov\"]\n",
    "cov_df.sample(n=3, random_state=19)"
   ]
  },
  {
   "cell_type": "code",
   "execution_count": 87,
   "metadata": {},
   "outputs": [
    {
     "name": "stderr",
     "output_type": "stream",
     "text": [
      "100%|██████████| 7126/7126 [1:11:20<00:00,  1.66it/s]\n"
     ]
    }
   ],
   "source": [
    "i = 0\n",
    "gene_cocount_dfst = []\n",
    "for i in tqdm(range(len(count_df))):\n",
    "    gene, chrom, start, end = count_df.iloc[i, :4]\n",
    "    gene_cov = cov_df[(cov_df.chrom == chrom) & (cov_df.pos >= start) & (cov_df.pos <= end)]\n",
    "    gene_cov_list.append(sum(gene_cov[\"cov\"] > 0)/(end - start + 1))"
   ]
  },
  {
   "cell_type": "code",
   "execution_count": 90,
   "metadata": {},
   "outputs": [
    {
     "data": {
      "text/html": [
       "<div>\n",
       "<style scoped>\n",
       "    .dataframe tbody tr th:only-of-type {\n",
       "        vertical-align: middle;\n",
       "    }\n",
       "\n",
       "    .dataframe tbody tr th {\n",
       "        vertical-align: top;\n",
       "    }\n",
       "\n",
       "    .dataframe thead th {\n",
       "        text-align: right;\n",
       "    }\n",
       "</style>\n",
       "<table border=\"1\" class=\"dataframe\">\n",
       "  <thead>\n",
       "    <tr style=\"text-align: right;\">\n",
       "      <th></th>\n",
       "      <th>Geneid</th>\n",
       "      <th>Chr</th>\n",
       "      <th>Start</th>\n",
       "      <th>End</th>\n",
       "      <th>Strand</th>\n",
       "      <th>Length</th>\n",
       "      <th>Counts</th>\n",
       "      <th>RPK</th>\n",
       "      <th>TPM</th>\n",
       "      <th>Coverage</th>\n",
       "    </tr>\n",
       "  </thead>\n",
       "  <tbody>\n",
       "    <tr>\n",
       "      <td>0</td>\n",
       "      <td>YDL248W</td>\n",
       "      <td>IV</td>\n",
       "      <td>1802</td>\n",
       "      <td>2953</td>\n",
       "      <td>+</td>\n",
       "      <td>1152</td>\n",
       "      <td>324</td>\n",
       "      <td>281.250000</td>\n",
       "      <td>55.672541</td>\n",
       "      <td>1.0</td>\n",
       "    </tr>\n",
       "    <tr>\n",
       "      <td>1</td>\n",
       "      <td>YDL247W-A</td>\n",
       "      <td>IV</td>\n",
       "      <td>3762</td>\n",
       "      <td>3836</td>\n",
       "      <td>+</td>\n",
       "      <td>75</td>\n",
       "      <td>9</td>\n",
       "      <td>120.000000</td>\n",
       "      <td>23.753618</td>\n",
       "      <td>1.0</td>\n",
       "    </tr>\n",
       "    <tr>\n",
       "      <td>2</td>\n",
       "      <td>YDL247W</td>\n",
       "      <td>IV</td>\n",
       "      <td>5985</td>\n",
       "      <td>7814</td>\n",
       "      <td>+</td>\n",
       "      <td>1830</td>\n",
       "      <td>10</td>\n",
       "      <td>5.464481</td>\n",
       "      <td>1.081677</td>\n",
       "      <td>1.0</td>\n",
       "    </tr>\n",
       "    <tr>\n",
       "      <td>3</td>\n",
       "      <td>YDL246C</td>\n",
       "      <td>IV</td>\n",
       "      <td>8683</td>\n",
       "      <td>9756</td>\n",
       "      <td>-</td>\n",
       "      <td>1074</td>\n",
       "      <td>7</td>\n",
       "      <td>6.517691</td>\n",
       "      <td>1.290156</td>\n",
       "      <td>1.0</td>\n",
       "    </tr>\n",
       "    <tr>\n",
       "      <td>4</td>\n",
       "      <td>YDL245C</td>\n",
       "      <td>IV</td>\n",
       "      <td>11657</td>\n",
       "      <td>13360</td>\n",
       "      <td>-</td>\n",
       "      <td>1704</td>\n",
       "      <td>21</td>\n",
       "      <td>12.323944</td>\n",
       "      <td>2.439485</td>\n",
       "      <td>1.0</td>\n",
       "    </tr>\n",
       "  </tbody>\n",
       "</table>\n",
       "</div>"
      ],
      "text/plain": [
       "      Geneid Chr  Start    End Strand  Length  Counts         RPK        TPM  \\\n",
       "0    YDL248W  IV   1802   2953      +    1152     324  281.250000  55.672541   \n",
       "1  YDL247W-A  IV   3762   3836      +      75       9  120.000000  23.753618   \n",
       "2    YDL247W  IV   5985   7814      +    1830      10    5.464481   1.081677   \n",
       "3    YDL246C  IV   8683   9756      -    1074       7    6.517691   1.290156   \n",
       "4    YDL245C  IV  11657  13360      -    1704      21   12.323944   2.439485   \n",
       "\n",
       "   Coverage  \n",
       "0       1.0  \n",
       "1       1.0  \n",
       "2       1.0  \n",
       "3       1.0  \n",
       "4       1.0  "
      ]
     },
     "execution_count": 90,
     "metadata": {},
     "output_type": "execute_result"
    }
   ],
   "source": [
    "count_df[\"Coverage\"] = gene_cov_list\n",
    "count_df.head()"
   ]
  },
  {
   "cell_type": "code",
   "execution_count": 100,
   "metadata": {},
   "outputs": [
    {
     "data": {
      "text/plain": [
       "(6435, 7126, 0.9030311535223127)"
      ]
     },
     "execution_count": 100,
     "metadata": {},
     "output_type": "execute_result"
    }
   ],
   "source": [
    "selected_genes = count_df[\n",
    "    (count_df.TPM > TPM_LOWER_BOUND) & \\\n",
    "    (count_df.Coverage > COVERAGE_LOWER_BOUND)\n",
    "]\n",
    "len(selected_genes), len(count_df), len(selected_genes)/len(count_df)"
   ]
  },
  {
   "cell_type": "code",
   "execution_count": 101,
   "metadata": {},
   "outputs": [
    {
     "name": "stdout",
     "output_type": "stream",
     "text": [
      "Fraction of expressed genes: 90.30%\n"
     ]
    }
   ],
   "source": [
    "print(f\"Fraction of expressed genes: {100*len(selected_genes)/len(count_df):.2f}%\")"
   ]
  },
  {
   "cell_type": "markdown",
   "metadata": {},
   "source": [
    "#### Сборка\n",
    "Для сборки воспользуемся rnaSPAdes на отфильтрованных ридах"
   ]
  },
  {
   "cell_type": "markdown",
   "metadata": {},
   "source": [
    "../../bin/SPAdes-3.14.1-Darwin/bin/rnaspades.py -1 out_1P.fq -2 out_2P.fq -t 4 -o transriptome_assembly"
   ]
  },
  {
   "cell_type": "markdown",
   "metadata": {},
   "source": [
    "Не удалось установить rnaQUAST. Выравнял полученные контиги на референс"
   ]
  },
  {
   "cell_type": "markdown",
   "metadata": {},
   "source": [
    "seqtk seq -F '#' ./transriptome_assembly/transcripts.fasta > ./transriptome_assembly/transcripts.fq\n",
    "\n",
    "hisat2 -p 4 -x ./hw7reference -U ./transriptome_assembly/transcripts.fq | samtools sort > ./assembly_eval/assembly_alignment.bam\n",
    "\n",
    "6100 reads; of these:\n",
    "\n",
    "  6100 (100.00%) were unpaired; of these:\n",
    "    981 (16.08%) aligned 0 times\n",
    "    5078 (83.25%) aligned exactly 1 time\n",
    "    41 (0.67%) aligned >1 times\n",
    "    \n",
    "83.92% overall alignment rate"
   ]
  },
  {
   "cell_type": "markdown",
   "metadata": {},
   "source": [
    "Считаем покрытие\n",
    "\n",
    "bedtools genomecov -ibam ./assembly_eval/assembly_alignment.bam -d > ./assembly_coverage_hist.tsv"
   ]
  },
  {
   "cell_type": "code",
   "execution_count": 4,
   "metadata": {},
   "outputs": [
    {
     "data": {
      "text/html": [
       "<div>\n",
       "<style scoped>\n",
       "    .dataframe tbody tr th:only-of-type {\n",
       "        vertical-align: middle;\n",
       "    }\n",
       "\n",
       "    .dataframe tbody tr th {\n",
       "        vertical-align: top;\n",
       "    }\n",
       "\n",
       "    .dataframe thead th {\n",
       "        text-align: right;\n",
       "    }\n",
       "</style>\n",
       "<table border=\"1\" class=\"dataframe\">\n",
       "  <thead>\n",
       "    <tr style=\"text-align: right;\">\n",
       "      <th></th>\n",
       "      <th>chrom</th>\n",
       "      <th>pos</th>\n",
       "      <th>cov</th>\n",
       "    </tr>\n",
       "  </thead>\n",
       "  <tbody>\n",
       "    <tr>\n",
       "      <td>3557395</td>\n",
       "      <td>V</td>\n",
       "      <td>139774</td>\n",
       "      <td>1</td>\n",
       "    </tr>\n",
       "    <tr>\n",
       "      <td>10503931</td>\n",
       "      <td>XV</td>\n",
       "      <td>386184</td>\n",
       "      <td>0</td>\n",
       "    </tr>\n",
       "    <tr>\n",
       "      <td>10054074</td>\n",
       "      <td>XIV</td>\n",
       "      <td>720660</td>\n",
       "      <td>2</td>\n",
       "    </tr>\n",
       "  </tbody>\n",
       "</table>\n",
       "</div>"
      ],
      "text/plain": [
       "         chrom     pos  cov\n",
       "3557395      V  139774    1\n",
       "10503931    XV  386184    0\n",
       "10054074   XIV  720660    2"
      ]
     },
     "execution_count": 4,
     "metadata": {},
     "output_type": "execute_result"
    }
   ],
   "source": [
    "assembled_df = pd.read_csv(\"assembly_coverage_hist.tsv\", sep=\"\\t\", header=None)\n",
    "assembled_df.columns = [\"chrom\", \"pos\", \"cov\"]\n",
    "assembled_df.sample(n=3, random_state=19)"
   ]
  },
  {
   "cell_type": "code",
   "execution_count": 6,
   "metadata": {},
   "outputs": [
    {
     "name": "stderr",
     "output_type": "stream",
     "text": [
      "100%|██████████| 7126/7126 [1:09:40<00:00,  1.70it/s]\n"
     ]
    }
   ],
   "source": [
    "i = 0\n",
    "gene_cov_list = []\n",
    "for i in tqdm(range(len(count_df))):\n",
    "    gene, chrom, start, end = count_df.iloc[i, :4]\n",
    "    gene_cov = assembled_df[\n",
    "        (assembled_df.chrom == chrom) & \\\n",
    "        (assembled_df.pos >= start) & \\\n",
    "        (assembled_df.pos <= end)\n",
    "    ]\n",
    "    gene_cov_list.append(sum(gene_cov[\"cov\"] > 0)/(end - start + 1))"
   ]
  },
  {
   "cell_type": "code",
   "execution_count": 104,
   "metadata": {},
   "outputs": [
    {
     "name": "stdout",
     "output_type": "stream",
     "text": [
      "Fraction of assembled genes: 81.81%\n"
     ]
    }
   ],
   "source": [
    "assmbl_cov = pd.Series(gene_cov_list)\n",
    "assmbl_frac = len(assmbl_cov[assmbl_cov > COVERAGE_LOWER_BOUND])/len(assmbl_cov)\n",
    "print(f\"Fraction of assembled genes: {100*assmbl_frac:.2f}%\")"
   ]
  },
  {
   "cell_type": "markdown",
   "metadata": {},
   "source": [
    "#### Выводы"
   ]
  },
  {
   "cell_type": "markdown",
   "metadata": {},
   "source": [
    "Получилось, что собралось гораздо меньше генов, чем экспрессируется. Это можно объяснить тем, что довольно большая часть собранных транскриптомных контигов не выравнялась обратно на геном. При расчете экспрессии мы не учитывали риды-мультимапперы, выравнявшиеся в несколько мест, а также не учитывали не выравнявшиеся риды. Возможно именно эти риды, попав в контиги при сборке не дают им выравняться из-за содержащихся в них ошибок. Возможно, есть проблемы с самим подходом выравнивания транскриптома на геном и в rnaQUAST эта задача решается более хитро, интересно было бы посмотреть результат, в идеале, как мне кажется, различия должны быть минимальны."
   ]
  }
 ],
 "metadata": {
  "kernelspec": {
   "display_name": "Python 3",
   "language": "python",
   "name": "python3"
  },
  "language_info": {
   "codemirror_mode": {
    "name": "ipython",
    "version": 3
   },
   "file_extension": ".py",
   "mimetype": "text/x-python",
   "name": "python",
   "nbconvert_exporter": "python",
   "pygments_lexer": "ipython3",
   "version": "3.7.4"
  }
 },
 "nbformat": 4,
 "nbformat_minor": 4
}
