{
 "cells": [
  {
   "cell_type": "markdown",
   "metadata": {},
   "source": [
    "# Анализ данных NGS. Домашнее задание № 6"
   ]
  },
  {
   "cell_type": "markdown",
   "metadata": {},
   "source": [
    "Выполнил: Олег Вавулов"
   ]
  },
  {
   "cell_type": "markdown",
   "metadata": {},
   "source": [
    "## Pacbio"
   ]
  },
  {
   "cell_type": "markdown",
   "metadata": {},
   "source": [
    "#### Собираем длинные риды с помощью Flye"
   ]
  },
  {
   "cell_type": "markdown",
   "metadata": {},
   "source": [
    "flye --pacbio-raw ../../data/hw_6/pacbio_80x.fq.gz --threads 4 --out-dir ../../data/hw_6/results/pacbio"
   ]
  },
  {
   "cell_type": "markdown",
   "metadata": {},
   "source": [
    "## Illumina"
   ]
  },
  {
   "cell_type": "markdown",
   "metadata": {},
   "source": [
    "#### Собираем короткие риды с помощью SPAdes"
   ]
  },
  {
   "cell_type": "markdown",
   "metadata": {},
   "source": [
    "../../bin/SPAdes-3.14.1-Darwin/bin/spades.py -1 ../../data/hw_6/illumina.100x.1.fq.gz -2 ../../data/hw_6/illumina.100x.2.fq.gz -o ../../data/hw_6/results/illumina\n"
   ]
  },
  {
   "cell_type": "markdown",
   "metadata": {},
   "source": [
    "## Hybrid"
   ]
  },
  {
   "cell_type": "markdown",
   "metadata": {},
   "source": [
    "#### Делаем гибридную сборку с помощью SPAdes"
   ]
  },
  {
   "cell_type": "markdown",
   "metadata": {},
   "source": [
    "../../bin/SPAdes-3.14.1-Darwin/bin/spades.py -1 ../../data/hw_6/illumina.100x.1.fq.gz -2 ../../data/hw_6/illumina.100x.2.fq.gz --pacbio ../../data/hw_6/pacbio_80x.fq.gz -o ../../data/hw_6/results/hybrid"
   ]
  },
  {
   "cell_type": "markdown",
   "metadata": {},
   "source": [
    "# Сравнение результатов"
   ]
  },
  {
   "cell_type": "markdown",
   "metadata": {},
   "source": [
    "quast -o ../../data/hw_6/results/quast -t 4 \n",
    "\n",
    "-r ../../data/hw_6/reference.fasta \n",
    "\n",
    "../../data/hw_6/results/pacbio/00-assembly/draft_assembly.fasta\n",
    "\n",
    "../../data/hw_6/results/illumina/contigs.fasta \n",
    "\n",
    "../../data/hw_6/results/hybrid/contigs.fasta"
   ]
  },
  {
   "cell_type": "markdown",
   "metadata": {},
   "source": [
    "Наиболее качественная сборка получилась при использовании ридов обоих типов: длинных и коротких. Фактически удалось собрать полный геном в один контиг, который примерно на 2 кб больше референса. Для коротких ридов собралось 97 контигов (наибольший размером примерно 200кб). При этом сборка из коротких ридов имеет несколько меньшее количество ошибок (мисмэтчей и инделов) по сравнени с гибридной. Наименее адекватной получилась сборка целиков на длинных ридах: наибольший контиг по размерам значительно превосходит референс и не выравнивается на него."
   ]
  }
 ],
 "metadata": {
  "kernelspec": {
   "display_name": "Python 3",
   "language": "python",
   "name": "python3"
  },
  "language_info": {
   "codemirror_mode": {
    "name": "ipython",
    "version": 3
   },
   "file_extension": ".py",
   "mimetype": "text/x-python",
   "name": "python",
   "nbconvert_exporter": "python",
   "pygments_lexer": "ipython3",
   "version": "3.7.4"
  }
 },
 "nbformat": 4,
 "nbformat_minor": 4
}
