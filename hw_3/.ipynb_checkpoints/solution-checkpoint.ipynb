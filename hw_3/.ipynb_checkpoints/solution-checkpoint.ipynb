{
 "cells": [
  {
   "cell_type": "markdown",
   "metadata": {},
   "source": [
    "# Анализ данных NGS. Домашнее задание № 3"
   ]
  },
  {
   "cell_type": "markdown",
   "metadata": {},
   "source": [
    "Выполнил: Олег Вавулов"
   ]
  },
  {
   "cell_type": "code",
   "execution_count": 1,
   "metadata": {},
   "outputs": [],
   "source": [
    "import warnings\n",
    "warnings.filterwarnings(\"ignore\")\n",
    "\n",
    "import os\n",
    "import sys\n",
    "import gzip\n",
    "sys.path.insert(0, os.getcwd())\n",
    "import functions as f\n",
    "import mappy as mp\n",
    "from tqdm import tqdm\n",
    "import numpy as np\n",
    "import pandas as pd\n",
    "import joblib\n",
    "from matplotlib import pyplot as plt"
   ]
  },
  {
   "cell_type": "markdown",
   "metadata": {},
   "source": [
    "Данные храним вне проектаjoblib"
   ]
  },
  {
   "cell_type": "code",
   "execution_count": 2,
   "metadata": {},
   "outputs": [],
   "source": [
    "cwd = os.getcwd()\n",
    "data_path = os.path.join(f.get_prev_path(cwd, 2), \"data\", \"hw_3\")\n",
    "bin_path = os.path.join(f.get_prev_path(cwd, 2), \"bin\")"
   ]
  },
  {
   "cell_type": "markdown",
   "metadata": {},
   "source": [
    "Читаем и индексируем референс"
   ]
  },
  {
   "cell_type": "code",
   "execution_count": 3,
   "metadata": {},
   "outputs": [],
   "source": [
    "with open(os.path.join(data_path, \"reference.fasta\")) as f:\n",
    "    reference = f.read()\n",
    "reference = \"\".join(reference.split(\"\\n\")[1:])\n",
    "indexed = mp.Aligner(seq=reference)"
   ]
  },
  {
   "cell_type": "markdown",
   "metadata": {},
   "source": [
    "# Oxford Nanopores"
   ]
  },
  {
   "cell_type": "markdown",
   "metadata": {},
   "source": [
    "Выравниваем риды"
   ]
  },
  {
   "cell_type": "code",
   "execution_count": 4,
   "metadata": {},
   "outputs": [
    {
     "name": "stdout",
     "output_type": "stream",
     "text": [
      "  123240 ../../data/hw_3/ONT_2D.fastq\n"
     ]
    }
   ],
   "source": [
    "!wc -l ../../data/hw_3/ONT_2D.fastq"
   ]
  },
  {
   "cell_type": "code",
   "execution_count": 5,
   "metadata": {},
   "outputs": [
    {
     "name": "stdout",
     "output_type": "stream",
     "text": [
      "Total reads number: 30810\n"
     ]
    }
   ],
   "source": [
    "nreads = int(123240/4)\n",
    "print(f\"Total reads number: {nreads}\")"
   ]
  },
  {
   "cell_type": "code",
   "execution_count": 6,
   "metadata": {},
   "outputs": [
    {
     "name": "stderr",
     "output_type": "stream",
     "text": [
      "100%|██████████| 30810/30810 [00:46<00:00, 668.09it/s]"
     ]
    },
    {
     "name": "stdout",
     "output_type": "stream",
     "text": [
      "CPU times: user 41.8 s, sys: 4.51 s, total: 46.3 s\n",
      "Wall time: 46.1 s\n"
     ]
    },
    {
     "name": "stderr",
     "output_type": "stream",
     "text": [
      "\n"
     ]
    }
   ],
   "source": [
    "%%time\n",
    "alignments = []\n",
    "reads = []\n",
    "n_aligned = 0\n",
    "for name, seq, qual in tqdm(mp.fastx_read(os.path.join(data_path, \"ONT_2D.fastq.gz\")), total=nreads):\n",
    "    aligned = 0\n",
    "    for alignment in indexed.map(seq):\n",
    "        aligned = 1\n",
    "        alignments.append(alignment)\n",
    "        reads.append(seq)\n",
    "    n_aligned += aligned"
   ]
  },
  {
   "cell_type": "code",
   "execution_count": 7,
   "metadata": {},
   "outputs": [
    {
     "name": "stdout",
     "output_type": "stream",
     "text": [
      "Mapped reads fraction: 91.77%\n"
     ]
    }
   ],
   "source": [
    "print(f\"Mapped reads fraction: {100*n_aligned/nreads:.2f}%\")"
   ]
  },
  {
   "cell_type": "code",
   "execution_count": 8,
   "metadata": {},
   "outputs": [],
   "source": [
    "coverage = np.zeros(len(reference))\n",
    "substitution_matrix = pd.DataFrame(\n",
    "    index=[\"r_\"+x for x in [\"gap\"]+list(\"ACGT\")],\n",
    "    columns=[\"q_\"+x for x in [\"gap\"]+list(\"ACGT\")], data=0)\n",
    "indels = []"
   ]
  },
  {
   "cell_type": "code",
   "execution_count": 9,
   "metadata": {},
   "outputs": [],
   "source": [
    "def analyse_mapping(params):\n",
    "    mapping, read = params\n",
    "    if not mapping.is_primary:\n",
    "        return\n",
    "    r = reference[mapping.r_st: mapping.r_en]\n",
    "    q = read[mapping.q_st: mapping.q_en]\n",
    "    r_idx = 0\n",
    "    q_idx = 0\n",
    "    for n, sort in mapping.cigar:\n",
    "        if sort == 0:\n",
    "            for _ in range(n):\n",
    "                coverage[mapping.r_st + r_idx] += 1\n",
    "                r_nt = r[r_idx]\n",
    "                q_nt = q[q_idx]\n",
    "                if r_nt != q_nt:\n",
    "                    substitution_matrix.loc[\"r_\"+r_nt, \"q_\"+q_nt] += 1\n",
    "                r_idx += 1\n",
    "                q_idx += 1\n",
    "        elif sort == 1:\n",
    "            indels.append(n)\n",
    "            for _ in range(n):\n",
    "                q_nt = q[q_idx]\n",
    "                substitution_matrix.loc[\"r_gap\", \"q_\"+q_nt] += 1\n",
    "                q_idx += 1\n",
    "        elif sort == 2:\n",
    "            indels.append(-n)\n",
    "            for _ in range(n):\n",
    "                r_nt = r[r_idx]\n",
    "                substitution_matrix.loc[\"r_\"+r_nt, \"q_gap\"] += 1\n",
    "                r_idx += 1\n",
    "        else:\n",
    "            raise Exception"
   ]
  },
  {
   "cell_type": "code",
   "execution_count": 218,
   "metadata": {},
   "outputs": [
    {
     "name": "stderr",
     "output_type": "stream",
     "text": [
      "100%|██████████| 29585/29585 [8:38:07<00:00,  1.05s/it]   \n"
     ]
    }
   ],
   "source": [
    "for params in tqdm(zip(alignments, reads), total=len(alignments)):\n",
    "    analyse_mapping(params)"
   ]
  },
  {
   "cell_type": "code",
   "execution_count": 225,
   "metadata": {},
   "outputs": [
    {
     "data": {
      "text/plain": [
       "['ON_indels.pickle']"
      ]
     },
     "execution_count": 225,
     "metadata": {},
     "output_type": "execute_result"
    }
   ],
   "source": [
    "joblib.dump(coverage, \"ON_coverage.pickle\")\n",
    "joblib.dump(substitution_matrix, \"ON_substitution_matrix.pickle\")\n",
    "joblib.dump(indels, \"ON_indels.pickle\")"
   ]
  },
  {
   "cell_type": "code",
   "execution_count": 10,
   "metadata": {},
   "outputs": [],
   "source": [
    "cov, matrix, indels = joblib.load(\"ON_coverage.pickle\"), \\\n",
    "joblib.load(\"ON_substitution_matrix.pickle\"), \\\n",
    "joblib.load(\"ON_indels.pickle\")"
   ]
  },
  {
   "cell_type": "code",
   "execution_count": 11,
   "metadata": {},
   "outputs": [
    {
     "name": "stderr",
     "output_type": "stream",
     "text": [
      "100%|██████████| 300/300 [00:00<00:00, 45766.03it/s]\n"
     ]
    }
   ],
   "source": [
    "cov_binned = []\n",
    "idxs = np.linspace(0, len(cov), 301).astype(int)\n",
    "for i in tqdm(range(len(idxs)-1)):\n",
    "    st = idxs[i]\n",
    "    en = idxs[i + 1]\n",
    "    cov_binned.append(np.mean(cov[st:en]))"
   ]
  },
  {
   "cell_type": "code",
   "execution_count": 12,
   "metadata": {},
   "outputs": [
    {
     "data": {
      "image/png": "[encoded data removed]",
      "text/plain": [
       "<Figure size 1080x360 with 1 Axes>"
      ]
     },
     "metadata": {
      "needs_background": "light"
     },
     "output_type": "display_data"
    }
   ],
   "source": [
    "plt.figure(figsize=(15, 5))\n",
    "plt.title(\"Genome coverage by reads\", fontsize=20)\n",
    "plt.xlabel(\"Bin number\", fontsize=15)\n",
    "plt.ylabel(\"Coverage\", fontsize=15)\n",
    "plt.bar(range(len(cov_binned)), cov_binned);"
   ]
  },
  {
   "cell_type": "code",
   "execution_count": 13,
   "metadata": {},
   "outputs": [
    {
     "name": "stdout",
     "output_type": "stream",
     "text": [
      "Substitution matrix\n"
     ]
    },
    {
     "data": {
      "text/html": [
       "<div>\n",
       "<style scoped>\n",
       "    .dataframe tbody tr th:only-of-type {\n",
       "        vertical-align: middle;\n",
       "    }\n",
       "\n",
       "    .dataframe tbody tr th {\n",
       "        vertical-align: top;\n",
       "    }\n",
       "\n",
       "    .dataframe thead th {\n",
       "        text-align: right;\n",
       "    }\n",
       "</style>\n",
       "<table border=\"1\" class=\"dataframe\">\n",
       "  <thead>\n",
       "    <tr style=\"text-align: right;\">\n",
       "      <th></th>\n",
       "      <th>q_gap</th>\n",
       "      <th>q_A</th>\n",
       "      <th>q_C</th>\n",
       "      <th>q_G</th>\n",
       "      <th>q_T</th>\n",
       "    </tr>\n",
       "  </thead>\n",
       "  <tbody>\n",
       "    <tr>\n",
       "      <td>r_gap</td>\n",
       "      <td>0</td>\n",
       "      <td>391775</td>\n",
       "      <td>382225</td>\n",
       "      <td>400807</td>\n",
       "      <td>390233</td>\n",
       "    </tr>\n",
       "    <tr>\n",
       "      <td>r_A</td>\n",
       "      <td>1607834</td>\n",
       "      <td>0</td>\n",
       "      <td>3916905</td>\n",
       "      <td>4149624</td>\n",
       "      <td>3846771</td>\n",
       "    </tr>\n",
       "    <tr>\n",
       "      <td>r_C</td>\n",
       "      <td>1537023</td>\n",
       "      <td>3933937</td>\n",
       "      <td>0</td>\n",
       "      <td>4146728</td>\n",
       "      <td>4064630</td>\n",
       "    </tr>\n",
       "    <tr>\n",
       "      <td>r_G</td>\n",
       "      <td>1558942</td>\n",
       "      <td>4006696</td>\n",
       "      <td>4046284</td>\n",
       "      <td>0</td>\n",
       "      <td>3932036</td>\n",
       "    </tr>\n",
       "    <tr>\n",
       "      <td>r_T</td>\n",
       "      <td>1604674</td>\n",
       "      <td>3754681</td>\n",
       "      <td>3964216</td>\n",
       "      <td>3937839</td>\n",
       "      <td>0</td>\n",
       "    </tr>\n",
       "  </tbody>\n",
       "</table>\n",
       "</div>"
      ],
      "text/plain": [
       "         q_gap      q_A      q_C      q_G      q_T\n",
       "r_gap        0   391775   382225   400807   390233\n",
       "r_A    1607834        0  3916905  4149624  3846771\n",
       "r_C    1537023  3933937        0  4146728  4064630\n",
       "r_G    1558942  4006696  4046284        0  3932036\n",
       "r_T    1604674  3754681  3964216  3937839        0"
      ]
     },
     "execution_count": 13,
     "metadata": {},
     "output_type": "execute_result"
    }
   ],
   "source": [
    "print(\"Substitution matrix\")\n",
    "matrix"
   ]
  },
  {
   "cell_type": "code",
   "execution_count": 14,
   "metadata": {},
   "outputs": [
    {
     "name": "stderr",
     "output_type": "stream",
     "text": [
      "100%|██████████| 29585/29585 [00:00<00:00, 1385318.10it/s]\n"
     ]
    }
   ],
   "source": [
    "total_reads_vol = 0\n",
    "for mapping, read in tqdm(zip(alignments, reads), total=len(alignments)):\n",
    "    if mapping.is_primary:\n",
    "        total_reads_vol += len(read)"
   ]
  },
  {
   "cell_type": "code",
   "execution_count": 15,
   "metadata": {},
   "outputs": [
    {
     "name": "stdout",
     "output_type": "stream",
     "text": [
      "Error rate in reads: 43.06%\n"
     ]
    }
   ],
   "source": [
    "print(f\"Error rate in reads: {100*matrix.values.sum()/total_reads_vol:.2f}%\")"
   ]
  },
  {
   "cell_type": "code",
   "execution_count": 16,
   "metadata": {},
   "outputs": [
    {
     "data": {
      "image/png": "[encoded data removed]",
      "text/plain": [
       "<Figure size 432x288 with 1 Axes>"
      ]
     },
     "metadata": {
      "needs_background": "light"
     },
     "output_type": "display_data"
    }
   ],
   "source": [
    "plt.title(\"Indel length distribution\", fontsize=20)\n",
    "pd.Series(indels).sort_values()[500:-500].hist(bins=30);"
   ]
  },
  {
   "cell_type": "markdown",
   "metadata": {},
   "source": [
    "# PacBio"
   ]
  },
  {
   "cell_type": "code",
   "execution_count": 17,
   "metadata": {},
   "outputs": [
    {
     "name": "stdout",
     "output_type": "stream",
     "text": [
      "  165788 ../../data/hw_3/pacbio_40x.fq\n"
     ]
    }
   ],
   "source": [
    "!wc -l ../../data/hw_3/pacbio_40x.fq"
   ]
  },
  {
   "cell_type": "code",
   "execution_count": 18,
   "metadata": {},
   "outputs": [
    {
     "name": "stdout",
     "output_type": "stream",
     "text": [
      "Total reads number: 41447\n"
     ]
    }
   ],
   "source": [
    "nreads = int(165788/4)\n",
    "print(f\"Total reads number: {nreads}\")"
   ]
  },
  {
   "cell_type": "code",
   "execution_count": 19,
   "metadata": {},
   "outputs": [
    {
     "name": "stderr",
     "output_type": "stream",
     "text": [
      "100%|██████████| 41447/41447 [02:17<00:00, 301.36it/s]\n"
     ]
    }
   ],
   "source": [
    "alignments = []\n",
    "reads = []\n",
    "n_aligned = 0\n",
    "for name, seq, qual in tqdm(mp.fastx_read(os.path.join(data_path, \"pacbio_40x.fq.gz\")), total=nreads):\n",
    "    aligned = 0\n",
    "    for alignment in indexed.map(seq):\n",
    "        aligned = 1\n",
    "        alignments.append(alignment)\n",
    "        reads.append(seq)\n",
    "    n_aligned += aligned"
   ]
  },
  {
   "cell_type": "code",
   "execution_count": 20,
   "metadata": {},
   "outputs": [
    {
     "name": "stdout",
     "output_type": "stream",
     "text": [
      "Mapped reads fraction: 96.86%\n"
     ]
    }
   ],
   "source": [
    "print(f\"Mapped reads fraction: {100*n_aligned/nreads:.2f}%\")"
   ]
  },
  {
   "cell_type": "code",
   "execution_count": 21,
   "metadata": {},
   "outputs": [],
   "source": [
    "coverage = np.zeros(len(reference))\n",
    "substitution_matrix = pd.DataFrame(\n",
    "    index=[\"r_\"+x for x in [\"gap\"]+list(\"ACGT\")],\n",
    "    columns=[\"q_\"+x for x in [\"gap\"]+list(\"ACGT\")], data=0)\n",
    "indels = []"
   ]
  },
  {
   "cell_type": "code",
   "execution_count": 22,
   "metadata": {},
   "outputs": [
    {
     "name": "stderr",
     "output_type": "stream",
     "text": [
      "100%|██████████| 48544/48544 [4:47:35<00:00,  2.81it/s]   \n"
     ]
    }
   ],
   "source": [
    "for params in tqdm(zip(alignments, reads), total=len(alignments)):\n",
    "    analyse_mapping(params)"
   ]
  },
  {
   "cell_type": "code",
   "execution_count": 23,
   "metadata": {},
   "outputs": [
    {
     "data": {
      "text/plain": [
       "['PB_indels.pickle']"
      ]
     },
     "execution_count": 23,
     "metadata": {},
     "output_type": "execute_result"
    }
   ],
   "source": [
    "joblib.dump(coverage, \"PB_coverage.pickle\")\n",
    "joblib.dump(substitution_matrix, \"PB_substitution_matrix.pickle\")\n",
    "joblib.dump(indels, \"PB_indels.pickle\")"
   ]
  },
  {
   "cell_type": "code",
   "execution_count": 24,
   "metadata": {},
   "outputs": [],
   "source": [
    "cov, matrix, indels = joblib.load(\"PB_coverage.pickle\"), \\\n",
    "joblib.load(\"PB_substitution_matrix.pickle\"), \\\n",
    "joblib.load(\"PB_indels.pickle\")"
   ]
  },
  {
   "cell_type": "code",
   "execution_count": 25,
   "metadata": {},
   "outputs": [
    {
     "name": "stderr",
     "output_type": "stream",
     "text": [
      "100%|██████████| 300/300 [00:00<00:00, 30450.14it/s]\n"
     ]
    }
   ],
   "source": [
    "cov_binned = []\n",
    "idxs = np.linspace(0, len(cov), 301).astype(int)\n",
    "for i in tqdm(range(len(idxs)-1)):\n",
    "    st = idxs[i]\n",
    "    en = idxs[i + 1]\n",
    "    cov_binned.append(np.mean(cov[st:en]))"
   ]
  },
  {
   "cell_type": "code",
   "execution_count": 26,
   "metadata": {},
   "outputs": [
    {
     "data": {
      "image/png": "[encoded data removed]",
      "text/plain": [
       "<Figure size 1080x360 with 1 Axes>"
      ]
     },
     "metadata": {
      "needs_background": "light"
     },
     "output_type": "display_data"
    }
   ],
   "source": [
    "plt.figure(figsize=(15, 5))\n",
    "plt.title(\"Genome coverage by reads\", fontsize=20)\n",
    "plt.xlabel(\"Bin number\", fontsize=15)\n",
    "plt.ylabel(\"Coverage\", fontsize=15)\n",
    "plt.bar(range(len(cov_binned)), cov_binned);"
   ]
  },
  {
   "cell_type": "code",
   "execution_count": 27,
   "metadata": {},
   "outputs": [
    {
     "name": "stdout",
     "output_type": "stream",
     "text": [
      "Substitution matrix\n"
     ]
    },
    {
     "data": {
      "text/html": [
       "<div>\n",
       "<style scoped>\n",
       "    .dataframe tbody tr th:only-of-type {\n",
       "        vertical-align: middle;\n",
       "    }\n",
       "\n",
       "    .dataframe tbody tr th {\n",
       "        vertical-align: top;\n",
       "    }\n",
       "\n",
       "    .dataframe thead th {\n",
       "        text-align: right;\n",
       "    }\n",
       "</style>\n",
       "<table border=\"1\" class=\"dataframe\">\n",
       "  <thead>\n",
       "    <tr style=\"text-align: right;\">\n",
       "      <th></th>\n",
       "      <th>q_gap</th>\n",
       "      <th>q_A</th>\n",
       "      <th>q_C</th>\n",
       "      <th>q_G</th>\n",
       "      <th>q_T</th>\n",
       "    </tr>\n",
       "  </thead>\n",
       "  <tbody>\n",
       "    <tr>\n",
       "      <td>r_gap</td>\n",
       "      <td>0</td>\n",
       "      <td>4070592</td>\n",
       "      <td>4775577</td>\n",
       "      <td>3789350</td>\n",
       "      <td>3507033</td>\n",
       "    </tr>\n",
       "    <tr>\n",
       "      <td>r_A</td>\n",
       "      <td>1439963</td>\n",
       "      <td>0</td>\n",
       "      <td>5875029</td>\n",
       "      <td>5548688</td>\n",
       "      <td>5512224</td>\n",
       "    </tr>\n",
       "    <tr>\n",
       "      <td>r_C</td>\n",
       "      <td>2075165</td>\n",
       "      <td>5808073</td>\n",
       "      <td>0</td>\n",
       "      <td>5677725</td>\n",
       "      <td>5536716</td>\n",
       "    </tr>\n",
       "    <tr>\n",
       "      <td>r_G</td>\n",
       "      <td>2067609</td>\n",
       "      <td>5703513</td>\n",
       "      <td>5996323</td>\n",
       "      <td>0</td>\n",
       "      <td>5554772</td>\n",
       "    </tr>\n",
       "    <tr>\n",
       "      <td>r_T</td>\n",
       "      <td>1436096</td>\n",
       "      <td>5665127</td>\n",
       "      <td>5826583</td>\n",
       "      <td>5534296</td>\n",
       "      <td>0</td>\n",
       "    </tr>\n",
       "  </tbody>\n",
       "</table>\n",
       "</div>"
      ],
      "text/plain": [
       "         q_gap      q_A      q_C      q_G      q_T\n",
       "r_gap        0  4070592  4775577  3789350  3507033\n",
       "r_A    1439963        0  5875029  5548688  5512224\n",
       "r_C    2075165  5808073        0  5677725  5536716\n",
       "r_G    2067609  5703513  5996323        0  5554772\n",
       "r_T    1436096  5665127  5826583  5534296        0"
      ]
     },
     "execution_count": 27,
     "metadata": {},
     "output_type": "execute_result"
    }
   ],
   "source": [
    "print(\"Substitution matrix\")\n",
    "matrix"
   ]
  },
  {
   "cell_type": "code",
   "execution_count": 28,
   "metadata": {},
   "outputs": [
    {
     "name": "stderr",
     "output_type": "stream",
     "text": [
      "100%|██████████| 48544/48544 [00:00<00:00, 773340.93it/s]\n"
     ]
    }
   ],
   "source": [
    "total_reads_vol = 0\n",
    "for mapping, read in tqdm(zip(alignments, reads), total=len(alignments)):\n",
    "    if mapping.is_primary:\n",
    "        total_reads_vol += len(read)"
   ]
  },
  {
   "cell_type": "code",
   "execution_count": 29,
   "metadata": {},
   "outputs": [
    {
     "name": "stdout",
     "output_type": "stream",
     "text": [
      "Error rate in reads: 34.13%\n"
     ]
    }
   ],
   "source": [
    "print(f\"Error rate in reads: {100*matrix.values.sum()/total_reads_vol:.2f}%\")"
   ]
  },
  {
   "cell_type": "code",
   "execution_count": 37,
   "metadata": {},
   "outputs": [
    {
     "data": {
      "image/png": "[encoded data removed]",
      "text/plain": [
       "<Figure size 432x288 with 1 Axes>"
      ]
     },
     "metadata": {
      "needs_background": "light"
     },
     "output_type": "display_data"
    }
   ],
   "source": [
    "plt.title(\"Indel length distribution\", fontsize=20)\n",
    "pd.Series(indels).sort_values()[1000:-3000].hist(bins=30);"
   ]
  }
 ],
 "metadata": {
  "kernelspec": {
   "display_name": "Python 3",
   "language": "python",
   "name": "python3"
  },
  "language_info": {
   "codemirror_mode": {
    "name": "ipython",
    "version": 3
   },
   "file_extension": ".py",
   "mimetype": "text/x-python",
   "name": "python",
   "nbconvert_exporter": "python",
   "pygments_lexer": "ipython3",
   "version": "3.7.4"
  }
 },
 "nbformat": 4,
 "nbformat_minor": 4
}
