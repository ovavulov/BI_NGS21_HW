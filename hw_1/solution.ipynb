{
 "cells": [
  {
   "cell_type": "markdown",
   "metadata": {},
   "source": [
    "# Анализ данных NGS. Домашнее задание № 1"
   ]
  },
  {
   "cell_type": "markdown",
   "metadata": {},
   "source": [
    "Выполнил: Олег Вавулов"
   ]
  },
  {
   "cell_type": "code",
   "execution_count": 1,
   "metadata": {},
   "outputs": [],
   "source": [
    "import gzip\n",
    "import joblib\n",
    "import numpy as np\n",
    "import pandas as pd\n",
    "from tqdm import tqdm\n",
    "from numba import njit\n",
    "from matplotlib import pyplot as plt\n",
    "import seaborn as sns\n",
    "from itertools import product\n",
    "from Bio.Seq import Seq"
   ]
  },
  {
   "cell_type": "code",
   "execution_count": 2,
   "metadata": {},
   "outputs": [],
   "source": [
    "with open(\"./data/test3.fastq\", \"r\", encoding=\"ascii\") as f:\n",
    "    test = f.read()"
   ]
  },
  {
   "cell_type": "code",
   "execution_count": 4,
   "metadata": {},
   "outputs": [
    {
     "name": "stdout",
     "output_type": "stream",
     "text": [
      "CPU times: user 7.44 s, sys: 1.21 s, total: 8.65 s\n",
      "Wall time: 8.66 s\n"
     ]
    }
   ],
   "source": [
    "%%time\n",
    "with open(\"../../data/hw_1/100x.1.fastq.gz\", \"rb\") as f:\n",
    "     forward = gzip.decompress(f.read()).decode(\"ascii\")\n",
    "with open(\"../../data/hw_1/100x.2.fastq.gz\", \"rb\") as f:\n",
    "     reverse = gzip.decompress(f.read()).decode(\"ascii\")"
   ]
  },
  {
   "cell_type": "markdown",
   "metadata": {},
   "source": [
    "## 1. GC состав"
   ]
  },
  {
   "cell_type": "code",
   "execution_count": 5,
   "metadata": {},
   "outputs": [],
   "source": [
    "def get_sequences(fastq):\n",
    "    \"\"\"\n",
    "    Извлекаем последовательности из fastq текста\n",
    "    \"\"\"\n",
    "    lines = fastq.split(\"\\n\")\n",
    "    seqs = [lines[i] for i in range(len(lines)) if i % 4 == 1]\n",
    "    lengths = [len(seq) for seq in seqs]\n",
    "    if len(np.unique(lengths)) > 1:\n",
    "        print(\"Different read legth!\")\n",
    "    else:\n",
    "        print(f\"Read length is {lengths[0]}\")\n",
    "    return seqs, lengths\n",
    "\n",
    "def get_GC_content(fastq):\n",
    "    \"\"\"\n",
    "    Считаем долю GC по всей библиотеке и по каждому риду\n",
    "    \"\"\"\n",
    "    seqs, lengths = get_sequences(fastq)\n",
    "    gc_total = 0\n",
    "    gc_ratio = []\n",
    "    for seq, length in tqdm(zip(seqs, lengths)):\n",
    "        gc_read = 0\n",
    "        for nt in seq:\n",
    "            gc_read += nt == \"C\" or nt == \"G\"\n",
    "        gc_total += gc_read\n",
    "        gc_ratio.append(100*gc_read/length)\n",
    "    return gc_total/sum(lengths), pd.Series(gc_ratio)"
   ]
  },
  {
   "cell_type": "code",
   "execution_count": 6,
   "metadata": {},
   "outputs": [
    {
     "name": "stderr",
     "output_type": "stream",
     "text": [
      "14872it [00:00, 148690.36it/s]"
     ]
    },
    {
     "name": "stdout",
     "output_type": "stream",
     "text": [
      "Read length is 100\n"
     ]
    },
    {
     "name": "stderr",
     "output_type": "stream",
     "text": [
      "2500000it [00:17, 142771.83it/s]\n"
     ]
    },
    {
     "name": "stdout",
     "output_type": "stream",
     "text": [
      "\n",
      "Results:\n",
      "GC content (forward): 0.51\n",
      "\n"
     ]
    }
   ],
   "source": [
    "gc_content_fw, gc_distribution_fw = get_GC_content(forward)\n",
    "print(f\"\\nResults:\\nGC content (forward): {gc_content_fw:.2f}\\n\")"
   ]
  },
  {
   "cell_type": "code",
   "execution_count": 7,
   "metadata": {},
   "outputs": [
    {
     "name": "stderr",
     "output_type": "stream",
     "text": [
      "13022it [00:00, 130213.60it/s]"
     ]
    },
    {
     "name": "stdout",
     "output_type": "stream",
     "text": [
      "Read length is 100\n"
     ]
    },
    {
     "name": "stderr",
     "output_type": "stream",
     "text": [
      "2500000it [00:17, 142986.13it/s]\n"
     ]
    },
    {
     "name": "stdout",
     "output_type": "stream",
     "text": [
      "\n",
      "Results:\n",
      "GC content (reverse): 0.51\n",
      "\n"
     ]
    }
   ],
   "source": [
    "gc_content_rv, gc_distribution_rv = get_GC_content(reverse)\n",
    "print(f\"\\nResults:\\nGC content (reverse): {gc_content_rv:.2f}\\n\")"
   ]
  },
  {
   "cell_type": "code",
   "execution_count": 8,
   "metadata": {},
   "outputs": [
    {
     "data": {
      "image/png": "[encoded data removed]",
      "text/plain": [
       "<Figure size 1224x504 with 2 Axes>"
      ]
     },
     "metadata": {
      "needs_background": "light"
     },
     "output_type": "display_data"
    }
   ],
   "source": [
    "N_BINS = 200\n",
    "f, ax = plt.subplots(nrows=1, ncols=2, figsize=(17, 7))\n",
    "f.suptitle(\"GC content distributions\", fontsize=15)\n",
    "gc_distribution_fw.hist(bins=N_BINS, ax=ax[0])\n",
    "gc_distribution_rv.hist(bins=N_BINS, ax=ax[1])\n",
    "ax[0].set_title(\"Forward reads\")\n",
    "ax[1].set_title(\"Reverse reads\");"
   ]
  },
  {
   "cell_type": "markdown",
   "metadata": {},
   "source": [
    "## 2. Распределение качества"
   ]
  },
  {
   "cell_type": "markdown",
   "metadata": {},
   "source": [
    "Вероятность ошибки будем получать из Phred quality score по следующей формуле"
   ]
  },
  {
   "cell_type": "markdown",
   "metadata": {},
   "source": [
    "$$P = 10^{-\\frac{Q}{10}}$$"
   ]
  },
  {
   "cell_type": "code",
   "execution_count": 46,
   "metadata": {},
   "outputs": [],
   "source": [
    "def get_qualities(fastq):\n",
    "    \"\"\"\n",
    "    Извлекаем качество ридов из fastq текста\n",
    "    \"\"\"\n",
    "    lines = fastq.split(\"\\n\")\n",
    "    seqs, lengths = get_sequences(fastq)\n",
    "    quals = np.zeros((len(seqs), max(lengths))) + np.inf\n",
    "    # вытаскиваем качество из fastq и переводим из ascii в байты\n",
    "    quals_raw = [[ord(ch) for ch in lines[i]] for i in range(len(lines)) if i % 4 == 3]\n",
    "    for i in range(len(quals_raw)):\n",
    "        quals[i, :len(quals_raw[i])] = quals_raw[i]\n",
    "    # определяем шкалу Phred по минимальному качеству\n",
    "    scale = 64 if quals.min() > 64 else 33\n",
    "    # расчитываем вероятности ошибки\n",
    "    quals = np.where(quals != np.inf, 10**((quals - scale)*-0.1), quals)\n",
    "    mean_quals = []\n",
    "    # усредняем по позиции\n",
    "    for i in range(quals.shape[1]):\n",
    "        pos_quals = quals[:, i]\n",
    "        mean_quals.append(pos_quals[pos_quals != np.inf].mean())\n",
    "    return mean_quals"
   ]
  },
  {
   "cell_type": "code",
   "execution_count": 47,
   "metadata": {},
   "outputs": [
    {
     "name": "stdout",
     "output_type": "stream",
     "text": [
      "Read length is 100\n",
      "CPU times: user 1min 8s, sys: 11.5 s, total: 1min 19s\n",
      "Wall time: 1min 14s\n"
     ]
    }
   ],
   "source": [
    "%%time\n",
    "quality_distr_fw = get_qualities(forward)"
   ]
  },
  {
   "cell_type": "code",
   "execution_count": 48,
   "metadata": {},
   "outputs": [
    {
     "data": {
      "image/png": "[encoded data removed]",
      "text/plain": [
       "<Figure size 1800x504 with 1 Axes>"
      ]
     },
     "metadata": {
      "needs_background": "light"
     },
     "output_type": "display_data"
    }
   ],
   "source": [
    "plt.figure(figsize=(25, 7))\n",
    "ax = sns.barplot(x=list(range(1, len(quality_distr_fw)+1)), y=quality_distr_fw)\n",
    "ax.set_title(\"Error probability per position (forward)\", fontsize=20)\n",
    "ax.set_xticklabels(ax.get_xticklabels(),rotation=-45);"
   ]
  },
  {
   "cell_type": "code",
   "execution_count": 49,
   "metadata": {},
   "outputs": [
    {
     "name": "stdout",
     "output_type": "stream",
     "text": [
      "Read length is 100\n",
      "CPU times: user 1min 7s, sys: 10.8 s, total: 1min 18s\n",
      "Wall time: 1min 12s\n"
     ]
    }
   ],
   "source": [
    "%%time\n",
    "quality_distr_rv = get_qualities(reverse)"
   ]
  },
  {
   "cell_type": "code",
   "execution_count": 50,
   "metadata": {},
   "outputs": [
    {
     "data": {
      "image/png": "[encoded data removed]",
      "text/plain": [
       "<Figure size 1800x504 with 1 Axes>"
      ]
     },
     "metadata": {
      "needs_background": "light"
     },
     "output_type": "display_data"
    }
   ],
   "source": [
    "plt.figure(figsize=(25, 7))\n",
    "ax = sns.barplot(x=list(range(1, len(quality_distr_rv)+1)), y=quality_distr_rv)\n",
    "ax.set_title(\"Error probability per position (reverse)\", fontsize=20)\n",
    "ax.set_xticklabels(ax.get_xticklabels(),rotation=-45);"
   ]
  },
  {
   "cell_type": "markdown",
   "metadata": {},
   "source": [
    "## 3. Проверка результатов"
   ]
  },
  {
   "cell_type": "markdown",
   "metadata": {},
   "source": [
    "Доля GC для прямых ридов (100x.1_fastqc)"
   ]
  },
  {
   "cell_type": "markdown",
   "metadata": {},
   "source": [
    "<img src=\"fastqc/gc_fw.png\" width=600 height=600 />"
   ]
  },
  {
   "cell_type": "markdown",
   "metadata": {},
   "source": [
    "Доля GC для обратных ридов (100x.2_fastqc)"
   ]
  },
  {
   "cell_type": "markdown",
   "metadata": {},
   "source": [
    "<img src=\"fastqc/gc_rv.png\" width=600 height=600 />"
   ]
  },
  {
   "cell_type": "markdown",
   "metadata": {},
   "source": [
    "Распределение качества для прямых ридов (100x.1_fastqc)"
   ]
  },
  {
   "cell_type": "markdown",
   "metadata": {},
   "source": [
    "<img src=\"fastqc/qual_fw.png\" width=600 height=600 />"
   ]
  },
  {
   "cell_type": "markdown",
   "metadata": {},
   "source": [
    "Распределение качества для обратных ридов (100x.2_fastqc)"
   ]
  },
  {
   "cell_type": "markdown",
   "metadata": {},
   "source": [
    "<img src=\"fastqc/qual_rv.png\" width=600 height=600 />"
   ]
  },
  {
   "cell_type": "markdown",
   "metadata": {},
   "source": [
    "В целом получившиеся графики соответсвуют результатам fastqc"
   ]
  },
  {
   "cell_type": "markdown",
   "metadata": {},
   "source": [
    "## 4. Спектры k-меров"
   ]
  },
  {
   "cell_type": "code",
   "execution_count": 16,
   "metadata": {},
   "outputs": [],
   "source": [
    "def get_kmers_distr(fastq, k=2):\n",
    "    seqs, read_len = get_sequences(fastq)\n",
    "    kmers = [\"\".join(kmer) for kmer in product(*[list(\"ACTG\")]*k)]    \n",
    "    kmers = dict.fromkeys(kmers, 0)\n",
    "    for seq in tqdm(seqs):\n",
    "        for kmer in kmers.keys():\n",
    "            kmers[kmer] += Seq(\"\".join(seq)).count_overlap(kmer)\n",
    "    return kmers"
   ]
  },
  {
   "cell_type": "code",
   "execution_count": 17,
   "metadata": {},
   "outputs": [
    {
     "name": "stderr",
     "output_type": "stream",
     "text": [
      "  0%|          | 3101/5000000 [00:00<05:31, 15094.35it/s]"
     ]
    },
    {
     "name": "stdout",
     "output_type": "stream",
     "text": [
      "Read length is 100\n"
     ]
    },
    {
     "name": "stderr",
     "output_type": "stream",
     "text": [
      "100%|██████████| 5000000/5000000 [05:15<00:00, 15867.40it/s]\n"
     ]
    },
    {
     "name": "stdout",
     "output_type": "stream",
     "text": [
      "CPU times: user 5min 18s, sys: 3.33 s, total: 5min 22s\n",
      "Wall time: 5min 20s\n"
     ]
    }
   ],
   "source": [
    "%%time\n",
    "kmers = get_kmers_distr(forward + reverse)"
   ]
  },
  {
   "cell_type": "code",
   "execution_count": 18,
   "metadata": {},
   "outputs": [
    {
     "data": {
      "text/plain": [
       "{'AA': 35860593,\n",
       " 'AC': 27248851,\n",
       " 'AT': 32631393,\n",
       " 'AG': 24934960,\n",
       " 'CA': 34107418,\n",
       " 'CC': 29488768,\n",
       " 'CT': 25465419,\n",
       " 'CG': 36422446,\n",
       " 'TA': 22526781,\n",
       " 'TC': 28503046,\n",
       " 'TT': 36998276,\n",
       " 'TG': 34113031,\n",
       " 'GA': 28009982,\n",
       " 'GC': 40325233,\n",
       " 'GT': 27040135,\n",
       " 'GG': 30347222}"
      ]
     },
     "execution_count": 18,
     "metadata": {},
     "output_type": "execute_result"
    }
   ],
   "source": [
    "kmers"
   ]
  },
  {
   "cell_type": "code",
   "execution_count": 19,
   "metadata": {},
   "outputs": [
    {
     "data": {
      "image/png": "[encoded data removed]",
      "text/plain": [
       "<Figure size 432x288 with 1 Axes>"
      ]
     },
     "metadata": {
      "needs_background": "light"
     },
     "output_type": "display_data"
    }
   ],
   "source": [
    "plt.bar(kmers.keys(), kmers.values());"
   ]
  }
 ],
 "metadata": {
  "kernelspec": {
   "display_name": "Python 3",
   "language": "python",
   "name": "python3"
  },
  "language_info": {
   "codemirror_mode": {
    "name": "ipython",
    "version": 3
   },
   "file_extension": ".py",
   "mimetype": "text/x-python",
   "name": "python",
   "nbconvert_exporter": "python",
   "pygments_lexer": "ipython3",
   "version": "3.7.4"
  }
 },
 "nbformat": 4,
 "nbformat_minor": 4
}
